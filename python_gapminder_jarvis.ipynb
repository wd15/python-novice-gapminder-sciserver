{
 "cells": [
  {
   "cell_type": "markdown",
   "metadata": {},
   "source": [
    "### SWC notebook for Python Gapminder lesson using Jarvis data instead of GDP data\n",
    "\n",
    "Chandler Becker, 2018-10-29\n",
    "\n",
    "Uses data from the Jarvis project, run at NIST by Kamal Choudhary,  https://github.com/usnistgov/jarvis/blob/master/jarvis/db/static/jarvis_dft-explore.ipynb"
   ]
  },
  {
   "cell_type": "code",
   "execution_count": 2,
   "metadata": {},
   "outputs": [],
   "source": [
    "import pandas"
   ]
  },
  {
   "cell_type": "code",
   "execution_count": 7,
   "metadata": {},
   "outputs": [],
   "source": [
    "#read csv file containing the data\n",
    "\n",
    "# columns:\n",
    "# jid: JARVIS calculation ID\n",
    "# icsd: ICSD structure ID\n",
    "# mpid: Materials Project structure ID\n",
    "# form_enp: formation energy per atom (eV/atom)\n",
    "# op_gap: OptB88vdW functional based bandgap (eV)\n",
    "# mbj_gap: TBmBJ functional based bandgap (eV)\n",
    "# kv: Voigt bulk mod. (GPa)\n",
    "# gv: Shear bulk mod. (GPa)\n",
    "# epsx: Static dielctric function value in x-direction based on OptB88vdW (no unit)\n",
    "# mepsx: Static dielctric function value in x-direction based on TBmBJ (no unit)\n",
    "# kp_len: Kpoint automatic line density obtained after automatic convergence (Angstrom), substract 25 because 5 extra points were taken during convergence\n",
    "# encut: Plane wave cut-off value obtained after automatic convergence\n",
    "\n",
    "#'na' signifies non-available data\n",
    "\n",
    "data = pandas.read_csv('data/jarvis_subset.csv')"
   ]
  },
  {
   "cell_type": "code",
   "execution_count": 8,
   "metadata": {},
   "outputs": [
    {
     "name": "stdout",
     "output_type": "stream",
     "text": [
      "      epsx     epsy     epsz      fin_en  form_enp      gv    icsd  kp_leng  \\\n",
      "0  21.0673  29.1228  17.6066  -12.242175     0.025  19.993  609832       65   \n",
      "1   6.3933   6.9466   6.3796 -103.756610    -2.086  52.420  158256       50   \n",
      "2   6.0838   6.0838   6.5652    0.756760    -0.204   5.947   28230       60   \n",
      "3   7.0316   6.3127   5.2274  -35.585506    -1.768  37.120   27393       55   \n",
      "4   4.6738   4.7460   4.7722   -4.653860    -0.830   9.047   65198       55   \n",
      "\n",
      "       kv  mbj_gap    mepsx    mepsy    mepsz       mpid  op_gap          jid  \\\n",
      "0  34.556   0.6495  15.0619  14.9875  12.4788     mp-158  0.0221  JVASP-11997   \n",
      "1  75.067   2.4642   5.2402   5.8492   5.3897  mp-510584  1.9202  JVASP-12010   \n",
      "2  17.478   2.7025   4.5320   4.5323   4.9101  mp-567809  1.2599  JVASP-12023   \n",
      "3  54.633   2.2441   6.0366   5.5260   4.6886  mp-570157  1.8723  JVASP-12027   \n",
      "4  16.378   3.7113   3.6685   3.7637   3.7977  mp-570219  2.3104  JVASP-12028   \n",
      "\n",
      "  formula  \n",
      "0      As  \n",
      "1    MoO3  \n",
      "2     AgI  \n",
      "3   ZrBrN  \n",
      "4   InBr3  \n"
     ]
    }
   ],
   "source": [
    "print(data)"
   ]
  },
  {
   "cell_type": "code",
   "execution_count": 9,
   "metadata": {},
   "outputs": [
    {
     "name": "stdout",
     "output_type": "stream",
     "text": [
      "                epsx     epsy     epsz      fin_en  form_enp      gv    icsd  \\\n",
      "jid                                                                            \n",
      "JVASP-11997  21.0673  29.1228  17.6066  -12.242175     0.025  19.993  609832   \n",
      "JVASP-12010   6.3933   6.9466   6.3796 -103.756610    -2.086  52.420  158256   \n",
      "JVASP-12023   6.0838   6.0838   6.5652    0.756760    -0.204   5.947   28230   \n",
      "JVASP-12027   7.0316   6.3127   5.2274  -35.585506    -1.768  37.120   27393   \n",
      "JVASP-12028   4.6738   4.7460   4.7722   -4.653860    -0.830   9.047   65198   \n",
      "\n",
      "             kp_leng      kv  mbj_gap    mepsx    mepsy    mepsz       mpid  \\\n",
      "jid                                                                           \n",
      "JVASP-11997       65  34.556   0.6495  15.0619  14.9875  12.4788     mp-158   \n",
      "JVASP-12010       50  75.067   2.4642   5.2402   5.8492   5.3897  mp-510584   \n",
      "JVASP-12023       60  17.478   2.7025   4.5320   4.5323   4.9101  mp-567809   \n",
      "JVASP-12027       55  54.633   2.2441   6.0366   5.5260   4.6886  mp-570157   \n",
      "JVASP-12028       55  16.378   3.7113   3.6685   3.7637   3.7977  mp-570219   \n",
      "\n",
      "             op_gap formula  \n",
      "jid                          \n",
      "JVASP-11997  0.0221      As  \n",
      "JVASP-12010  1.9202    MoO3  \n",
      "JVASP-12023  1.2599     AgI  \n",
      "JVASP-12027  1.8723   ZrBrN  \n",
      "JVASP-12028  2.3104   InBr3  \n"
     ]
    }
   ],
   "source": [
    "data = pandas.read_csv('data/jarvis_subset.csv', index_col='jid')\n",
    "print(data)"
   ]
  },
  {
   "cell_type": "code",
   "execution_count": 15,
   "metadata": {},
   "outputs": [
    {
     "name": "stdout",
     "output_type": "stream",
     "text": [
      "<class 'pandas.core.frame.DataFrame'>\n",
      "Index: 5 entries, JVASP-11997 to JVASP-12028\n",
      "Data columns (total 16 columns):\n",
      "epsx        5 non-null float64\n",
      "epsy        5 non-null float64\n",
      "epsz        5 non-null float64\n",
      "fin_en      5 non-null float64\n",
      "form_enp    5 non-null float64\n",
      "gv          5 non-null float64\n",
      "icsd        5 non-null int64\n",
      "kp_leng     5 non-null int64\n",
      "kv          5 non-null float64\n",
      "mbj_gap     5 non-null float64\n",
      "mepsx       5 non-null float64\n",
      "mepsy       5 non-null float64\n",
      "mepsz       5 non-null float64\n",
      "mpid        5 non-null object\n",
      "op_gap      5 non-null float64\n",
      "formula     5 non-null object\n",
      "dtypes: float64(12), int64(2), object(2)\n",
      "memory usage: 840.0+ bytes\n"
     ]
    }
   ],
   "source": [
    "data.info()"
   ]
  },
  {
   "cell_type": "code",
   "execution_count": 16,
   "metadata": {},
   "outputs": [
    {
     "name": "stdout",
     "output_type": "stream",
     "text": [
      "Index(['epsx', 'epsy', 'epsz', 'fin_en', 'form_enp', 'gv', 'icsd', 'kp_leng',\n",
      "       'kv', 'mbj_gap', 'mepsx', 'mepsy', 'mepsz', 'mpid', 'op_gap',\n",
      "       'formula'],\n",
      "      dtype='object')\n"
     ]
    }
   ],
   "source": [
    "print(data.columns)"
   ]
  },
  {
   "cell_type": "code",
   "execution_count": 13,
   "metadata": {},
   "outputs": [
    {
     "name": "stdout",
     "output_type": "stream",
     "text": [
      "jid      JVASP-11997 JVASP-12010 JVASP-12023 JVASP-12027 JVASP-12028\n",
      "epsx         21.0673      6.3933      6.0838      7.0316      4.6738\n",
      "epsy         29.1228      6.9466      6.0838      6.3127       4.746\n",
      "epsz         17.6066      6.3796      6.5652      5.2274      4.7722\n",
      "fin_en      -12.2422    -103.757     0.75676    -35.5855    -4.65386\n",
      "form_enp       0.025      -2.086      -0.204      -1.768       -0.83\n",
      "gv            19.993       52.42       5.947       37.12       9.047\n",
      "icsd          609832      158256       28230       27393       65198\n",
      "kp_leng           65          50          60          55          55\n",
      "kv            34.556      75.067      17.478      54.633      16.378\n",
      "mbj_gap       0.6495      2.4642      2.7025      2.2441      3.7113\n",
      "mepsx        15.0619      5.2402       4.532      6.0366      3.6685\n",
      "mepsy        14.9875      5.8492      4.5323       5.526      3.7637\n",
      "mepsz        12.4788      5.3897      4.9101      4.6886      3.7977\n",
      "mpid          mp-158   mp-510584   mp-567809   mp-570157   mp-570219\n",
      "op_gap        0.0221      1.9202      1.2599      1.8723      2.3104\n",
      "formula           As        MoO3         AgI       ZrBrN       InBr3\n"
     ]
    }
   ],
   "source": [
    "print(data.T)"
   ]
  },
  {
   "cell_type": "code",
   "execution_count": 17,
   "metadata": {},
   "outputs": [
    {
     "name": "stdout",
     "output_type": "stream",
     "text": [
      "            epsx       epsy       epsz      fin_en  form_enp        gv  \\\n",
      "count   5.000000   5.000000   5.000000    5.000000  5.000000   5.00000   \n",
      "mean    9.049960  10.642380   8.110200  -31.096278 -0.972600  24.90540   \n",
      "std     6.773053  10.361935   5.362285   42.921358  0.932551  19.62964   \n",
      "min     4.673800   4.746000   4.772200 -103.756610 -2.086000   5.94700   \n",
      "25%     6.083800   6.083800   5.227400  -35.585506 -1.768000   9.04700   \n",
      "50%     6.393300   6.312700   6.379600  -12.242175 -0.830000  19.99300   \n",
      "75%     7.031600   6.946600   6.565200   -4.653860 -0.204000  37.12000   \n",
      "max    21.067300  29.122800  17.606600    0.756760  0.025000  52.42000   \n",
      "\n",
      "                icsd    kp_leng         kv   mbj_gap      mepsx      mepsy  \\\n",
      "count       5.000000   5.000000   5.000000  5.000000   5.000000   5.000000   \n",
      "mean   177781.800000  57.000000  39.622400  2.354320   6.907840   6.931740   \n",
      "std    247338.976031   5.700877  25.189198  1.106035   4.641301   4.578129   \n",
      "min     27393.000000  50.000000  16.378000  0.649500   3.668500   3.763700   \n",
      "25%     28230.000000  55.000000  17.478000  2.244100   4.532000   4.532300   \n",
      "50%     65198.000000  55.000000  34.556000  2.464200   5.240200   5.526000   \n",
      "75%    158256.000000  60.000000  54.633000  2.702500   6.036600   5.849200   \n",
      "max    609832.000000  65.000000  75.067000  3.711300  15.061900  14.987500   \n",
      "\n",
      "           mepsz    op_gap  \n",
      "count   5.000000  5.000000  \n",
      "mean    6.252980  1.476980  \n",
      "std     3.527928  0.895979  \n",
      "min     3.797700  0.022100  \n",
      "25%     4.688600  1.259900  \n",
      "50%     4.910100  1.872300  \n",
      "75%     5.389700  1.920200  \n",
      "max    12.478800  2.310400  \n"
     ]
    }
   ],
   "source": [
    "print(data.describe())\n",
    "# note that it skips the columns with non-numeric values"
   ]
  },
  {
   "cell_type": "code",
   "execution_count": 18,
   "metadata": {},
   "outputs": [],
   "source": [
    "data_all = pandas.read_csv('data/jarvis_all.csv', index_col='jid')"
   ]
  },
  {
   "cell_type": "code",
   "execution_count": 19,
   "metadata": {},
   "outputs": [
    {
     "data": {
      "text/html": [
       "<div>\n",
       "<style scoped>\n",
       "    .dataframe tbody tr th:only-of-type {\n",
       "        vertical-align: middle;\n",
       "    }\n",
       "\n",
       "    .dataframe tbody tr th {\n",
       "        vertical-align: top;\n",
       "    }\n",
       "\n",
       "    .dataframe thead th {\n",
       "        text-align: right;\n",
       "    }\n",
       "</style>\n",
       "<table border=\"1\" class=\"dataframe\">\n",
       "  <thead>\n",
       "    <tr style=\"text-align: right;\">\n",
       "      <th></th>\n",
       "      <th>epsx</th>\n",
       "      <th>epsy</th>\n",
       "      <th>epsz</th>\n",
       "      <th>fin_en</th>\n",
       "      <th>form_enp</th>\n",
       "      <th>gv</th>\n",
       "      <th>kp_leng</th>\n",
       "      <th>kv</th>\n",
       "      <th>mbj_gap</th>\n",
       "      <th>mepsx</th>\n",
       "      <th>mepsy</th>\n",
       "      <th>mepsz</th>\n",
       "      <th>op_gap</th>\n",
       "    </tr>\n",
       "  </thead>\n",
       "  <tbody>\n",
       "    <tr>\n",
       "      <th>count</th>\n",
       "      <td>1629.000000</td>\n",
       "      <td>1629.000000</td>\n",
       "      <td>1629.000000</td>\n",
       "      <td>1629.000000</td>\n",
       "      <td>1629.000000</td>\n",
       "      <td>1629.000000</td>\n",
       "      <td>1629.000000</td>\n",
       "      <td>1629.000000</td>\n",
       "      <td>1629.000000</td>\n",
       "      <td>1629.000000</td>\n",
       "      <td>1629.000000</td>\n",
       "      <td>1629.000000</td>\n",
       "      <td>1629.000000</td>\n",
       "    </tr>\n",
       "    <tr>\n",
       "      <th>mean</th>\n",
       "      <td>9.028433</td>\n",
       "      <td>9.166586</td>\n",
       "      <td>9.029941</td>\n",
       "      <td>-29.977266</td>\n",
       "      <td>-1.375686</td>\n",
       "      <td>42.017628</td>\n",
       "      <td>54.855740</td>\n",
       "      <td>73.995900</td>\n",
       "      <td>3.107395</td>\n",
       "      <td>7.054017</td>\n",
       "      <td>7.184296</td>\n",
       "      <td>7.803395</td>\n",
       "      <td>2.103147</td>\n",
       "    </tr>\n",
       "    <tr>\n",
       "      <th>std</th>\n",
       "      <td>8.682728</td>\n",
       "      <td>9.216929</td>\n",
       "      <td>10.960209</td>\n",
       "      <td>30.139279</td>\n",
       "      <td>1.075015</td>\n",
       "      <td>51.703914</td>\n",
       "      <td>11.230801</td>\n",
       "      <td>64.998075</td>\n",
       "      <td>2.483711</td>\n",
       "      <td>13.344059</td>\n",
       "      <td>13.794011</td>\n",
       "      <td>15.023537</td>\n",
       "      <td>1.754696</td>\n",
       "    </tr>\n",
       "    <tr>\n",
       "      <th>min</th>\n",
       "      <td>1.068100</td>\n",
       "      <td>1.068100</td>\n",
       "      <td>1.068100</td>\n",
       "      <td>-319.593360</td>\n",
       "      <td>-4.135000</td>\n",
       "      <td>-9.620000</td>\n",
       "      <td>40.000000</td>\n",
       "      <td>-0.822000</td>\n",
       "      <td>0.000200</td>\n",
       "      <td>-426.369300</td>\n",
       "      <td>-425.155500</td>\n",
       "      <td>1.057800</td>\n",
       "      <td>0.000100</td>\n",
       "    </tr>\n",
       "    <tr>\n",
       "      <th>25%</th>\n",
       "      <td>4.194800</td>\n",
       "      <td>4.200000</td>\n",
       "      <td>4.256200</td>\n",
       "      <td>-41.748297</td>\n",
       "      <td>-2.139000</td>\n",
       "      <td>13.940000</td>\n",
       "      <td>50.000000</td>\n",
       "      <td>27.467000</td>\n",
       "      <td>1.556600</td>\n",
       "      <td>3.324300</td>\n",
       "      <td>3.348500</td>\n",
       "      <td>3.398600</td>\n",
       "      <td>0.871700</td>\n",
       "    </tr>\n",
       "    <tr>\n",
       "      <th>50%</th>\n",
       "      <td>5.872900</td>\n",
       "      <td>5.873900</td>\n",
       "      <td>5.831000</td>\n",
       "      <td>-20.413384</td>\n",
       "      <td>-1.145000</td>\n",
       "      <td>27.060000</td>\n",
       "      <td>50.000000</td>\n",
       "      <td>51.567000</td>\n",
       "      <td>2.667200</td>\n",
       "      <td>4.601700</td>\n",
       "      <td>4.604600</td>\n",
       "      <td>4.630200</td>\n",
       "      <td>1.846600</td>\n",
       "    </tr>\n",
       "    <tr>\n",
       "      <th>75%</th>\n",
       "      <td>9.629900</td>\n",
       "      <td>9.325300</td>\n",
       "      <td>9.138200</td>\n",
       "      <td>-9.229320</td>\n",
       "      <td>-0.507000</td>\n",
       "      <td>52.540000</td>\n",
       "      <td>60.000000</td>\n",
       "      <td>102.733000</td>\n",
       "      <td>4.366300</td>\n",
       "      <td>7.151400</td>\n",
       "      <td>7.066000</td>\n",
       "      <td>6.938900</td>\n",
       "      <td>3.104700</td>\n",
       "    </tr>\n",
       "    <tr>\n",
       "      <th>max</th>\n",
       "      <td>49.533100</td>\n",
       "      <td>81.870100</td>\n",
       "      <td>152.103400</td>\n",
       "      <td>7.532196</td>\n",
       "      <td>1.667000</td>\n",
       "      <td>529.300000</td>\n",
       "      <td>150.000000</td>\n",
       "      <td>444.667000</td>\n",
       "      <td>32.188600</td>\n",
       "      <td>48.980200</td>\n",
       "      <td>106.502800</td>\n",
       "      <td>286.377200</td>\n",
       "      <td>17.965500</td>\n",
       "    </tr>\n",
       "  </tbody>\n",
       "</table>\n",
       "</div>"
      ],
      "text/plain": [
       "              epsx         epsy         epsz       fin_en     form_enp  \\\n",
       "count  1629.000000  1629.000000  1629.000000  1629.000000  1629.000000   \n",
       "mean      9.028433     9.166586     9.029941   -29.977266    -1.375686   \n",
       "std       8.682728     9.216929    10.960209    30.139279     1.075015   \n",
       "min       1.068100     1.068100     1.068100  -319.593360    -4.135000   \n",
       "25%       4.194800     4.200000     4.256200   -41.748297    -2.139000   \n",
       "50%       5.872900     5.873900     5.831000   -20.413384    -1.145000   \n",
       "75%       9.629900     9.325300     9.138200    -9.229320    -0.507000   \n",
       "max      49.533100    81.870100   152.103400     7.532196     1.667000   \n",
       "\n",
       "                gv      kp_leng           kv      mbj_gap        mepsx  \\\n",
       "count  1629.000000  1629.000000  1629.000000  1629.000000  1629.000000   \n",
       "mean     42.017628    54.855740    73.995900     3.107395     7.054017   \n",
       "std      51.703914    11.230801    64.998075     2.483711    13.344059   \n",
       "min      -9.620000    40.000000    -0.822000     0.000200  -426.369300   \n",
       "25%      13.940000    50.000000    27.467000     1.556600     3.324300   \n",
       "50%      27.060000    50.000000    51.567000     2.667200     4.601700   \n",
       "75%      52.540000    60.000000   102.733000     4.366300     7.151400   \n",
       "max     529.300000   150.000000   444.667000    32.188600    48.980200   \n",
       "\n",
       "             mepsy        mepsz       op_gap  \n",
       "count  1629.000000  1629.000000  1629.000000  \n",
       "mean      7.184296     7.803395     2.103147  \n",
       "std      13.794011    15.023537     1.754696  \n",
       "min    -425.155500     1.057800     0.000100  \n",
       "25%       3.348500     3.398600     0.871700  \n",
       "50%       4.604600     4.630200     1.846600  \n",
       "75%       7.066000     6.938900     3.104700  \n",
       "max     106.502800   286.377200    17.965500  "
      ]
     },
     "execution_count": 19,
     "metadata": {},
     "output_type": "execute_result"
    }
   ],
   "source": [
    "data_all.describe()"
   ]
  },
  {
   "cell_type": "code",
   "execution_count": 10,
   "metadata": {},
   "outputs": [
    {
     "data": {
      "text/html": [
       "<div>\n",
       "<style scoped>\n",
       "    .dataframe tbody tr th:only-of-type {\n",
       "        vertical-align: middle;\n",
       "    }\n",
       "\n",
       "    .dataframe tbody tr th {\n",
       "        vertical-align: top;\n",
       "    }\n",
       "\n",
       "    .dataframe thead th {\n",
       "        text-align: right;\n",
       "    }\n",
       "</style>\n",
       "<table border=\"1\" class=\"dataframe\">\n",
       "  <thead>\n",
       "    <tr style=\"text-align: right;\">\n",
       "      <th></th>\n",
       "      <th>jid</th>\n",
       "      <th>encut</th>\n",
       "      <th>epsx</th>\n",
       "      <th>epsy</th>\n",
       "      <th>epsz</th>\n",
       "      <th>fin_en</th>\n",
       "      <th>form_enp</th>\n",
       "      <th>gv</th>\n",
       "      <th>icsd</th>\n",
       "      <th>kp_leng</th>\n",
       "      <th>kv</th>\n",
       "      <th>mbj_gap</th>\n",
       "      <th>mepsx</th>\n",
       "      <th>mepsy</th>\n",
       "      <th>mepsz</th>\n",
       "      <th>mpid</th>\n",
       "      <th>op_gap</th>\n",
       "    </tr>\n",
       "  </thead>\n",
       "  <tbody>\n",
       "    <tr>\n",
       "      <th>0</th>\n",
       "      <td>JVASP-11997</td>\n",
       "      <td>500</td>\n",
       "      <td>21.0673</td>\n",
       "      <td>29.1228</td>\n",
       "      <td>17.6066</td>\n",
       "      <td>-12.242175</td>\n",
       "      <td>0.025</td>\n",
       "      <td>19.993</td>\n",
       "      <td>609832</td>\n",
       "      <td>65</td>\n",
       "      <td>34.556</td>\n",
       "      <td>0.6495</td>\n",
       "      <td>15.0619</td>\n",
       "      <td>14.9875</td>\n",
       "      <td>12.4788</td>\n",
       "      <td>mp-158</td>\n",
       "      <td>0.0221</td>\n",
       "    </tr>\n",
       "    <tr>\n",
       "      <th>1</th>\n",
       "      <td>JVASP-12002</td>\n",
       "      <td>1200</td>\n",
       "      <td>13.8023</td>\n",
       "      <td>38.1854</td>\n",
       "      <td>35.5515</td>\n",
       "      <td>-42.395911</td>\n",
       "      <td>-1.184</td>\n",
       "      <td>25.667</td>\n",
       "      <td>None</td>\n",
       "      <td>55</td>\n",
       "      <td>78.478</td>\n",
       "      <td>0.0083</td>\n",
       "      <td>16.5818</td>\n",
       "      <td>61.5222</td>\n",
       "      <td>53.1874</td>\n",
       "      <td>mp-24242</td>\n",
       "      <td>0.0038</td>\n",
       "    </tr>\n",
       "    <tr>\n",
       "      <th>2</th>\n",
       "      <td>JVASP-12010</td>\n",
       "      <td>1250</td>\n",
       "      <td>6.3933</td>\n",
       "      <td>6.9466</td>\n",
       "      <td>6.3796</td>\n",
       "      <td>-103.756610</td>\n",
       "      <td>-2.086</td>\n",
       "      <td>52.420</td>\n",
       "      <td>158256</td>\n",
       "      <td>50</td>\n",
       "      <td>75.067</td>\n",
       "      <td>2.4642</td>\n",
       "      <td>5.2402</td>\n",
       "      <td>5.8492</td>\n",
       "      <td>5.3897</td>\n",
       "      <td>mp-510584</td>\n",
       "      <td>1.9202</td>\n",
       "    </tr>\n",
       "    <tr>\n",
       "      <th>3</th>\n",
       "      <td>JVASP-12023</td>\n",
       "      <td>550</td>\n",
       "      <td>6.0838</td>\n",
       "      <td>6.0838</td>\n",
       "      <td>6.5652</td>\n",
       "      <td>0.756760</td>\n",
       "      <td>-0.204</td>\n",
       "      <td>5.947</td>\n",
       "      <td>28230</td>\n",
       "      <td>60</td>\n",
       "      <td>17.478</td>\n",
       "      <td>2.7025</td>\n",
       "      <td>4.5320</td>\n",
       "      <td>4.5323</td>\n",
       "      <td>4.9101</td>\n",
       "      <td>mp-567809</td>\n",
       "      <td>1.2599</td>\n",
       "    </tr>\n",
       "  </tbody>\n",
       "</table>\n",
       "</div>"
      ],
      "text/plain": [
       "           jid  encut     epsx     epsy     epsz      fin_en  form_enp  \\\n",
       "0  JVASP-11997    500  21.0673  29.1228  17.6066  -12.242175     0.025   \n",
       "1  JVASP-12002   1200  13.8023  38.1854  35.5515  -42.395911    -1.184   \n",
       "2  JVASP-12010   1250   6.3933   6.9466   6.3796 -103.756610    -2.086   \n",
       "3  JVASP-12023    550   6.0838   6.0838   6.5652    0.756760    -0.204   \n",
       "\n",
       "       gv    icsd  kp_leng      kv  mbj_gap    mepsx    mepsy    mepsz  \\\n",
       "0  19.993  609832       65  34.556   0.6495  15.0619  14.9875  12.4788   \n",
       "1  25.667    None       55  78.478   0.0083  16.5818  61.5222  53.1874   \n",
       "2  52.420  158256       50  75.067   2.4642   5.2402   5.8492   5.3897   \n",
       "3   5.947   28230       60  17.478   2.7025   4.5320   4.5323   4.9101   \n",
       "\n",
       "        mpid  op_gap  \n",
       "0     mp-158  0.0221  \n",
       "1   mp-24242  0.0038  \n",
       "2  mp-510584  1.9202  \n",
       "3  mp-567809  1.2599  "
      ]
     },
     "execution_count": 10,
     "metadata": {},
     "output_type": "execute_result"
    }
   ],
   "source": []
  },
  {
   "cell_type": "code",
   "execution_count": 20,
   "metadata": {},
   "outputs": [
    {
     "data": {
      "text/html": [
       "<div>\n",
       "<style scoped>\n",
       "    .dataframe tbody tr th:only-of-type {\n",
       "        vertical-align: middle;\n",
       "    }\n",
       "\n",
       "    .dataframe tbody tr th {\n",
       "        vertical-align: top;\n",
       "    }\n",
       "\n",
       "    .dataframe thead th {\n",
       "        text-align: right;\n",
       "    }\n",
       "</style>\n",
       "<table border=\"1\" class=\"dataframe\">\n",
       "  <thead>\n",
       "    <tr style=\"text-align: right;\">\n",
       "      <th></th>\n",
       "      <th>epsx</th>\n",
       "      <th>epsy</th>\n",
       "      <th>epsz</th>\n",
       "      <th>fin_en</th>\n",
       "      <th>form_enp</th>\n",
       "      <th>gv</th>\n",
       "      <th>icsd</th>\n",
       "      <th>kp_leng</th>\n",
       "      <th>kv</th>\n",
       "      <th>mbj_gap</th>\n",
       "      <th>mepsx</th>\n",
       "      <th>mepsy</th>\n",
       "      <th>mepsz</th>\n",
       "      <th>mpid</th>\n",
       "      <th>op_gap</th>\n",
       "      <th>formula</th>\n",
       "    </tr>\n",
       "    <tr>\n",
       "      <th>jid</th>\n",
       "      <th></th>\n",
       "      <th></th>\n",
       "      <th></th>\n",
       "      <th></th>\n",
       "      <th></th>\n",
       "      <th></th>\n",
       "      <th></th>\n",
       "      <th></th>\n",
       "      <th></th>\n",
       "      <th></th>\n",
       "      <th></th>\n",
       "      <th></th>\n",
       "      <th></th>\n",
       "      <th></th>\n",
       "      <th></th>\n",
       "      <th></th>\n",
       "    </tr>\n",
       "  </thead>\n",
       "  <tbody>\n",
       "    <tr>\n",
       "      <th>JVASP-11997</th>\n",
       "      <td>21.0673</td>\n",
       "      <td>29.1228</td>\n",
       "      <td>17.6066</td>\n",
       "      <td>-12.242175</td>\n",
       "      <td>0.025</td>\n",
       "      <td>19.993</td>\n",
       "      <td>609832</td>\n",
       "      <td>65</td>\n",
       "      <td>34.556</td>\n",
       "      <td>0.6495</td>\n",
       "      <td>15.0619</td>\n",
       "      <td>14.9875</td>\n",
       "      <td>12.4788</td>\n",
       "      <td>mp-158</td>\n",
       "      <td>0.0221</td>\n",
       "      <td>As</td>\n",
       "    </tr>\n",
       "    <tr>\n",
       "      <th>JVASP-12010</th>\n",
       "      <td>6.3933</td>\n",
       "      <td>6.9466</td>\n",
       "      <td>6.3796</td>\n",
       "      <td>-103.756610</td>\n",
       "      <td>-2.086</td>\n",
       "      <td>52.420</td>\n",
       "      <td>158256</td>\n",
       "      <td>50</td>\n",
       "      <td>75.067</td>\n",
       "      <td>2.4642</td>\n",
       "      <td>5.2402</td>\n",
       "      <td>5.8492</td>\n",
       "      <td>5.3897</td>\n",
       "      <td>mp-510584</td>\n",
       "      <td>1.9202</td>\n",
       "      <td>MoO3</td>\n",
       "    </tr>\n",
       "    <tr>\n",
       "      <th>JVASP-12023</th>\n",
       "      <td>6.0838</td>\n",
       "      <td>6.0838</td>\n",
       "      <td>6.5652</td>\n",
       "      <td>0.756760</td>\n",
       "      <td>-0.204</td>\n",
       "      <td>5.947</td>\n",
       "      <td>28230</td>\n",
       "      <td>60</td>\n",
       "      <td>17.478</td>\n",
       "      <td>2.7025</td>\n",
       "      <td>4.5320</td>\n",
       "      <td>4.5323</td>\n",
       "      <td>4.9101</td>\n",
       "      <td>mp-567809</td>\n",
       "      <td>1.2599</td>\n",
       "      <td>AgI</td>\n",
       "    </tr>\n",
       "    <tr>\n",
       "      <th>JVASP-12027</th>\n",
       "      <td>7.0316</td>\n",
       "      <td>6.3127</td>\n",
       "      <td>5.2274</td>\n",
       "      <td>-35.585506</td>\n",
       "      <td>-1.768</td>\n",
       "      <td>37.120</td>\n",
       "      <td>27393</td>\n",
       "      <td>55</td>\n",
       "      <td>54.633</td>\n",
       "      <td>2.2441</td>\n",
       "      <td>6.0366</td>\n",
       "      <td>5.5260</td>\n",
       "      <td>4.6886</td>\n",
       "      <td>mp-570157</td>\n",
       "      <td>1.8723</td>\n",
       "      <td>ZrBrN</td>\n",
       "    </tr>\n",
       "    <tr>\n",
       "      <th>JVASP-12028</th>\n",
       "      <td>4.6738</td>\n",
       "      <td>4.7460</td>\n",
       "      <td>4.7722</td>\n",
       "      <td>-4.653860</td>\n",
       "      <td>-0.830</td>\n",
       "      <td>9.047</td>\n",
       "      <td>65198</td>\n",
       "      <td>55</td>\n",
       "      <td>16.378</td>\n",
       "      <td>3.7113</td>\n",
       "      <td>3.6685</td>\n",
       "      <td>3.7637</td>\n",
       "      <td>3.7977</td>\n",
       "      <td>mp-570219</td>\n",
       "      <td>2.3104</td>\n",
       "      <td>InBr3</td>\n",
       "    </tr>\n",
       "  </tbody>\n",
       "</table>\n",
       "</div>"
      ],
      "text/plain": [
       "                epsx     epsy     epsz      fin_en  form_enp      gv    icsd  \\\n",
       "jid                                                                            \n",
       "JVASP-11997  21.0673  29.1228  17.6066  -12.242175     0.025  19.993  609832   \n",
       "JVASP-12010   6.3933   6.9466   6.3796 -103.756610    -2.086  52.420  158256   \n",
       "JVASP-12023   6.0838   6.0838   6.5652    0.756760    -0.204   5.947   28230   \n",
       "JVASP-12027   7.0316   6.3127   5.2274  -35.585506    -1.768  37.120   27393   \n",
       "JVASP-12028   4.6738   4.7460   4.7722   -4.653860    -0.830   9.047   65198   \n",
       "\n",
       "             kp_leng      kv  mbj_gap    mepsx    mepsy    mepsz       mpid  \\\n",
       "jid                                                                           \n",
       "JVASP-11997       65  34.556   0.6495  15.0619  14.9875  12.4788     mp-158   \n",
       "JVASP-12010       50  75.067   2.4642   5.2402   5.8492   5.3897  mp-510584   \n",
       "JVASP-12023       60  17.478   2.7025   4.5320   4.5323   4.9101  mp-567809   \n",
       "JVASP-12027       55  54.633   2.2441   6.0366   5.5260   4.6886  mp-570157   \n",
       "JVASP-12028       55  16.378   3.7113   3.6685   3.7637   3.7977  mp-570219   \n",
       "\n",
       "             op_gap formula  \n",
       "jid                          \n",
       "JVASP-11997  0.0221      As  \n",
       "JVASP-12010  1.9202    MoO3  \n",
       "JVASP-12023  1.2599     AgI  \n",
       "JVASP-12027  1.8723   ZrBrN  \n",
       "JVASP-12028  2.3104   InBr3  "
      ]
     },
     "execution_count": 20,
     "metadata": {},
     "output_type": "execute_result"
    }
   ],
   "source": [
    "data_all.head()"
   ]
  },
  {
   "cell_type": "code",
   "execution_count": 21,
   "metadata": {},
   "outputs": [
    {
     "data": {
      "text/html": [
       "<div>\n",
       "<style scoped>\n",
       "    .dataframe tbody tr th:only-of-type {\n",
       "        vertical-align: middle;\n",
       "    }\n",
       "\n",
       "    .dataframe tbody tr th {\n",
       "        vertical-align: top;\n",
       "    }\n",
       "\n",
       "    .dataframe thead th {\n",
       "        text-align: right;\n",
       "    }\n",
       "</style>\n",
       "<table border=\"1\" class=\"dataframe\">\n",
       "  <thead>\n",
       "    <tr style=\"text-align: right;\">\n",
       "      <th></th>\n",
       "      <th>epsx</th>\n",
       "      <th>epsy</th>\n",
       "      <th>epsz</th>\n",
       "      <th>fin_en</th>\n",
       "      <th>form_enp</th>\n",
       "      <th>gv</th>\n",
       "      <th>icsd</th>\n",
       "      <th>kp_leng</th>\n",
       "      <th>kv</th>\n",
       "      <th>mbj_gap</th>\n",
       "      <th>mepsx</th>\n",
       "      <th>mepsy</th>\n",
       "      <th>mepsz</th>\n",
       "      <th>mpid</th>\n",
       "      <th>op_gap</th>\n",
       "      <th>formula</th>\n",
       "    </tr>\n",
       "    <tr>\n",
       "      <th>jid</th>\n",
       "      <th></th>\n",
       "      <th></th>\n",
       "      <th></th>\n",
       "      <th></th>\n",
       "      <th></th>\n",
       "      <th></th>\n",
       "      <th></th>\n",
       "      <th></th>\n",
       "      <th></th>\n",
       "      <th></th>\n",
       "      <th></th>\n",
       "      <th></th>\n",
       "      <th></th>\n",
       "      <th></th>\n",
       "      <th></th>\n",
       "      <th></th>\n",
       "    </tr>\n",
       "  </thead>\n",
       "  <tbody>\n",
       "    <tr>\n",
       "      <th>JVASP-18457</th>\n",
       "      <td>39.4449</td>\n",
       "      <td>81.8701</td>\n",
       "      <td>76.7879</td>\n",
       "      <td>-31.660122</td>\n",
       "      <td>-0.290</td>\n",
       "      <td>258.960</td>\n",
       "      <td>24353</td>\n",
       "      <td>65</td>\n",
       "      <td>281.333</td>\n",
       "      <td>0.0130</td>\n",
       "      <td>38.7132</td>\n",
       "      <td>76.3183</td>\n",
       "      <td>75.4634</td>\n",
       "      <td>mp-27710</td>\n",
       "      <td>0.0017</td>\n",
       "      <td>CrB4</td>\n",
       "    </tr>\n",
       "    <tr>\n",
       "      <th>JVASP-18468</th>\n",
       "      <td>25.2755</td>\n",
       "      <td>25.2755</td>\n",
       "      <td>25.2755</td>\n",
       "      <td>-13.335514</td>\n",
       "      <td>-0.948</td>\n",
       "      <td>8.660</td>\n",
       "      <td>26770</td>\n",
       "      <td>55</td>\n",
       "      <td>18.633</td>\n",
       "      <td>2.0523</td>\n",
       "      <td>43.2825</td>\n",
       "      <td>43.2825</td>\n",
       "      <td>43.2827</td>\n",
       "      <td>mp-27835</td>\n",
       "      <td>1.6406</td>\n",
       "      <td>K2OsBr6</td>\n",
       "    </tr>\n",
       "    <tr>\n",
       "      <th>JVASP-18469</th>\n",
       "      <td>14.7200</td>\n",
       "      <td>14.7200</td>\n",
       "      <td>11.7229</td>\n",
       "      <td>-0.259703</td>\n",
       "      <td>-0.438</td>\n",
       "      <td>12.113</td>\n",
       "      <td>26881</td>\n",
       "      <td>70</td>\n",
       "      <td>18.222</td>\n",
       "      <td>0.5785</td>\n",
       "      <td>8.7965</td>\n",
       "      <td>8.7964</td>\n",
       "      <td>8.1306</td>\n",
       "      <td>mp-27838</td>\n",
       "      <td>0.0942</td>\n",
       "      <td>Na3Bi</td>\n",
       "    </tr>\n",
       "  </tbody>\n",
       "</table>\n",
       "</div>"
      ],
      "text/plain": [
       "                epsx     epsy     epsz     fin_en  form_enp       gv   icsd  \\\n",
       "jid                                                                           \n",
       "JVASP-18457  39.4449  81.8701  76.7879 -31.660122    -0.290  258.960  24353   \n",
       "JVASP-18468  25.2755  25.2755  25.2755 -13.335514    -0.948    8.660  26770   \n",
       "JVASP-18469  14.7200  14.7200  11.7229  -0.259703    -0.438   12.113  26881   \n",
       "\n",
       "             kp_leng       kv  mbj_gap    mepsx    mepsy    mepsz      mpid  \\\n",
       "jid                                                                           \n",
       "JVASP-18457       65  281.333   0.0130  38.7132  76.3183  75.4634  mp-27710   \n",
       "JVASP-18468       55   18.633   2.0523  43.2825  43.2825  43.2827  mp-27835   \n",
       "JVASP-18469       70   18.222   0.5785   8.7965   8.7964   8.1306  mp-27838   \n",
       "\n",
       "             op_gap  formula  \n",
       "jid                           \n",
       "JVASP-18457  0.0017     CrB4  \n",
       "JVASP-18468  1.6406  K2OsBr6  \n",
       "JVASP-18469  0.0942    Na3Bi  "
      ]
     },
     "execution_count": 21,
     "metadata": {},
     "output_type": "execute_result"
    }
   ],
   "source": [
    "data_all.tail(n=3)"
   ]
  },
  {
   "cell_type": "code",
   "execution_count": 22,
   "metadata": {},
   "outputs": [
    {
     "data": {
      "text/html": [
       "<div>\n",
       "<style scoped>\n",
       "    .dataframe tbody tr th:only-of-type {\n",
       "        vertical-align: middle;\n",
       "    }\n",
       "\n",
       "    .dataframe tbody tr th {\n",
       "        vertical-align: top;\n",
       "    }\n",
       "\n",
       "    .dataframe thead th {\n",
       "        text-align: right;\n",
       "    }\n",
       "</style>\n",
       "<table border=\"1\" class=\"dataframe\">\n",
       "  <thead>\n",
       "    <tr style=\"text-align: right;\">\n",
       "      <th>jid</th>\n",
       "      <th>JVASP-11997</th>\n",
       "      <th>JVASP-12010</th>\n",
       "      <th>JVASP-12023</th>\n",
       "      <th>JVASP-12027</th>\n",
       "      <th>JVASP-12028</th>\n",
       "      <th>JVASP-12033</th>\n",
       "      <th>JVASP-12038</th>\n",
       "      <th>JVASP-12074</th>\n",
       "      <th>JVASP-12112</th>\n",
       "      <th>JVASP-12124</th>\n",
       "      <th>...</th>\n",
       "      <th>JVASP-18007</th>\n",
       "      <th>JVASP-18277</th>\n",
       "      <th>JVASP-18311</th>\n",
       "      <th>JVASP-18316</th>\n",
       "      <th>JVASP-18318</th>\n",
       "      <th>JVASP-18342</th>\n",
       "      <th>JVASP-18361</th>\n",
       "      <th>JVASP-18457</th>\n",
       "      <th>JVASP-18468</th>\n",
       "      <th>JVASP-18469</th>\n",
       "    </tr>\n",
       "  </thead>\n",
       "  <tbody>\n",
       "    <tr>\n",
       "      <th>mpid</th>\n",
       "      <td>mp-158</td>\n",
       "      <td>mp-510584</td>\n",
       "      <td>mp-567809</td>\n",
       "      <td>mp-570157</td>\n",
       "      <td>mp-570219</td>\n",
       "      <td>mp-571442</td>\n",
       "      <td>mp-625055</td>\n",
       "      <td>mp-22992</td>\n",
       "      <td>mp-546279</td>\n",
       "      <td>mp-560161</td>\n",
       "      <td>...</td>\n",
       "      <td>mp-21214</td>\n",
       "      <td>mp-22704</td>\n",
       "      <td>mp-22873</td>\n",
       "      <td>mp-22907</td>\n",
       "      <td>mp-22915</td>\n",
       "      <td>mp-23171</td>\n",
       "      <td>mp-23300</td>\n",
       "      <td>mp-27710</td>\n",
       "      <td>mp-27835</td>\n",
       "      <td>mp-27838</td>\n",
       "    </tr>\n",
       "    <tr>\n",
       "      <th>op_gap</th>\n",
       "      <td>0.0221</td>\n",
       "      <td>1.9202</td>\n",
       "      <td>1.2599</td>\n",
       "      <td>1.8723</td>\n",
       "      <td>2.3104</td>\n",
       "      <td>2.676</td>\n",
       "      <td>5.1686</td>\n",
       "      <td>0.0183</td>\n",
       "      <td>3.2224</td>\n",
       "      <td>0.0089</td>\n",
       "      <td>...</td>\n",
       "      <td>0.0259</td>\n",
       "      <td>0.0114</td>\n",
       "      <td>0.0174</td>\n",
       "      <td>0.0198</td>\n",
       "      <td>0.0976</td>\n",
       "      <td>0.1974</td>\n",
       "      <td>0.2048</td>\n",
       "      <td>0.0017</td>\n",
       "      <td>1.6406</td>\n",
       "      <td>0.0942</td>\n",
       "    </tr>\n",
       "    <tr>\n",
       "      <th>formula</th>\n",
       "      <td>As</td>\n",
       "      <td>MoO3</td>\n",
       "      <td>AgI</td>\n",
       "      <td>ZrBrN</td>\n",
       "      <td>InBr3</td>\n",
       "      <td>YI3</td>\n",
       "      <td>AlHO2</td>\n",
       "      <td>TiClO</td>\n",
       "      <td>ScBrO</td>\n",
       "      <td>ZnCu3H6(ClO3)2</td>\n",
       "      <td>...</td>\n",
       "      <td>PbSe</td>\n",
       "      <td>YIn</td>\n",
       "      <td>SmBi</td>\n",
       "      <td>DyBi</td>\n",
       "      <td>AgI</td>\n",
       "      <td>PrBi</td>\n",
       "      <td>NdBi</td>\n",
       "      <td>CrB4</td>\n",
       "      <td>K2OsBr6</td>\n",
       "      <td>Na3Bi</td>\n",
       "    </tr>\n",
       "  </tbody>\n",
       "</table>\n",
       "<p>3 rows × 1629 columns</p>\n",
       "</div>"
      ],
      "text/plain": [
       "jid     JVASP-11997 JVASP-12010 JVASP-12023 JVASP-12027 JVASP-12028  \\\n",
       "mpid         mp-158   mp-510584   mp-567809   mp-570157   mp-570219   \n",
       "op_gap       0.0221      1.9202      1.2599      1.8723      2.3104   \n",
       "formula          As        MoO3         AgI       ZrBrN       InBr3   \n",
       "\n",
       "jid     JVASP-12033 JVASP-12038 JVASP-12074 JVASP-12112     JVASP-12124  \\\n",
       "mpid      mp-571442   mp-625055    mp-22992   mp-546279       mp-560161   \n",
       "op_gap        2.676      5.1686      0.0183      3.2224          0.0089   \n",
       "formula         YI3       AlHO2       TiClO       ScBrO  ZnCu3H6(ClO3)2   \n",
       "\n",
       "jid         ...     JVASP-18007 JVASP-18277 JVASP-18311 JVASP-18316  \\\n",
       "mpid        ...        mp-21214    mp-22704    mp-22873    mp-22907   \n",
       "op_gap      ...          0.0259      0.0114      0.0174      0.0198   \n",
       "formula     ...            PbSe         YIn        SmBi        DyBi   \n",
       "\n",
       "jid     JVASP-18318 JVASP-18342 JVASP-18361 JVASP-18457 JVASP-18468  \\\n",
       "mpid       mp-22915    mp-23171    mp-23300    mp-27710    mp-27835   \n",
       "op_gap       0.0976      0.1974      0.2048      0.0017      1.6406   \n",
       "formula         AgI        PrBi        NdBi        CrB4     K2OsBr6   \n",
       "\n",
       "jid     JVASP-18469  \n",
       "mpid       mp-27838  \n",
       "op_gap       0.0942  \n",
       "formula       Na3Bi  \n",
       "\n",
       "[3 rows x 1629 columns]"
      ]
     },
     "execution_count": 22,
     "metadata": {},
     "output_type": "execute_result"
    }
   ],
   "source": [
    "data_all.T.tail(n=3)"
   ]
  },
  {
   "cell_type": "code",
   "execution_count": 27,
   "metadata": {},
   "outputs": [],
   "source": [
    "data_all = pandas.read_csv('data/jarvis_all.csv', index_col='jid')"
   ]
  },
  {
   "cell_type": "code",
   "execution_count": 38,
   "metadata": {},
   "outputs": [
    {
     "name": "stdout",
     "output_type": "stream",
     "text": [
      "21.0673\n"
     ]
    }
   ],
   "source": [
    "import pandas\n",
    "data_all = pandas.read_csv('data/jarvis_all.csv', index_col='formula')\n",
    "print(data_all.iloc[0, 0])"
   ]
  },
  {
   "cell_type": "code",
   "execution_count": 39,
   "metadata": {},
   "outputs": [
    {
     "name": "stdout",
     "output_type": "stream",
     "text": [
      "21.0673\n"
     ]
    }
   ],
   "source": [
    "data_subset = pandas.read_csv('data/jarvis_subset.csv', index_col='formula')\n",
    "print(data.loc[\"As\", \"epsx\"])"
   ]
  },
  {
   "cell_type": "code",
   "execution_count": 40,
   "metadata": {},
   "outputs": [
    {
     "name": "stdout",
     "output_type": "stream",
     "text": [
      "epsx            21.0673\n",
      "epsy            29.1228\n",
      "epsz            17.6066\n",
      "fin_en         -12.2422\n",
      "form_enp          0.025\n",
      "gv               19.993\n",
      "icsd             609832\n",
      "kp_leng              65\n",
      "kv               34.556\n",
      "mbj_gap          0.6495\n",
      "mepsx           15.0619\n",
      "mepsy           14.9875\n",
      "mepsz           12.4788\n",
      "mpid             mp-158\n",
      "op_gap           0.0221\n",
      "jid         JVASP-11997\n",
      "Name: As, dtype: object\n"
     ]
    }
   ],
   "source": [
    "print(data_subset.loc[\"As\", :])"
   ]
  },
  {
   "cell_type": "code",
   "execution_count": 41,
   "metadata": {},
   "outputs": [
    {
     "name": "stdout",
     "output_type": "stream",
     "text": [
      "formula\n",
      "As       21.0673\n",
      "MoO3      6.3933\n",
      "AgI       6.0838\n",
      "ZrBrN     7.0316\n",
      "InBr3     4.6738\n",
      "Name: epsx, dtype: float64\n"
     ]
    }
   ],
   "source": [
    "print(data_subset.loc[:, \"epsx\"])"
   ]
  },
  {
   "cell_type": "code",
   "execution_count": 50,
   "metadata": {},
   "outputs": [
    {
     "name": "stdout",
     "output_type": "stream",
     "text": [
      "21.0673\n"
     ]
    }
   ],
   "source": [
    "import pandas\n",
    "data_all = pandas.read_csv('data/jarvis_all.csv', index_col='formula')\n",
    "print(data_all.iloc[0, 0])"
   ]
  },
  {
   "cell_type": "code",
   "execution_count": 47,
   "metadata": {},
   "outputs": [
    {
     "name": "stdout",
     "output_type": "stream",
     "text": [
      "21.0673\n"
     ]
    }
   ],
   "source": [
    "import pandas\n",
    "data_all = pandas.read_csv('data/jarvis_all.csv', index_col='formula')\n",
    "data_sorted = data_all.sort_index()\n",
    "print(data_all.iloc[0, 0])"
   ]
  },
  {
   "cell_type": "code",
   "execution_count": 51,
   "metadata": {},
   "outputs": [],
   "source": [
    "data_all_sorted = data_all.sort_index()"
   ]
  },
  {
   "cell_type": "code",
   "execution_count": 52,
   "metadata": {},
   "outputs": [
    {
     "name": "stdout",
     "output_type": "stream",
     "text": [
      "               epsx     epsy      epsz     fin_en  form_enp      gv    icsd  \\\n",
      "formula                                                                       \n",
      "Ag           5.9994   5.9994    4.8733   0.727881     0.004  29.967   56269   \n",
      "Ag           8.1215   8.1215  125.9966   1.448164     0.002  28.033   64707   \n",
      "Ag2CO3       5.0869   4.4515    5.0420 -43.645231    -0.816  22.387  281040   \n",
      "Ag2HgI4      6.6352   6.6388    6.6637   3.322033    -0.227   6.200  150343   \n",
      "Ag2HgI4      6.6705   6.6705    6.5081   3.351577    -0.223   5.767   30264   \n",
      "Ag2HgSI2     7.0901   6.6457    6.1917   0.825500    -0.190   6.207  413300   \n",
      "Ag2PbO2      7.8308   7.6095    7.7437 -18.513758    -0.646  16.573   65998   \n",
      "Ag2PdO2     13.4050  11.4422   12.6978  -9.475461    -0.313  22.700   51499   \n",
      "Ag3AsS3      9.4305   9.1736    9.5427 -20.897202    -0.133   3.347   61806   \n",
      "Ag3SI        9.3916   9.3916    9.3916  -1.497845    -0.101  11.007  159858   \n",
      "Ag5(PbO3)2  12.3418  12.3418    9.1382 -25.759005    -0.589  20.193  155044   \n",
      "AgBi(PS3)2   9.6594   9.1733    9.2389 -53.761811    -0.310  18.127  170639   \n",
      "AgBiSCl2     8.2987   7.5539    7.4840 -13.892793    -0.668  17.920  413290   \n",
      "AgBr         6.1732   6.1732    6.1732  -0.221426    -0.347  10.840   65061   \n",
      "AgCN         3.8282   4.1679    3.6540 -13.187350     0.447  28.267   85783   \n",
      "AgCNO        3.2426   7.8006    4.0760 -32.583961     0.361   7.213   30516   \n",
      "AgCNO        3.3789   3.4957    5.0324 -37.608937    -0.267   7.640  157548   \n",
      "AgCO2        4.4906   3.7833    5.1175 -69.317826    -0.812  27.993  109603   \n",
      "AgCl         5.2578   5.2578    5.2578  -0.714632    -0.472   8.700   64734   \n",
      "AgHgSI       7.9993   6.4676    6.9314   0.182686    -0.181   7.260   54796   \n",
      "\n",
      "            kp_leng       kv  mbj_gap   mepsx   mepsy     mepsz       mpid  \\\n",
      "formula                                                                      \n",
      "Ag               95  100.178   0.0154  4.6491  4.6491    3.8257   mp-10597   \n",
      "Ag              115   99.922   0.0159  6.5518  6.5519  279.2159    mp-8566   \n",
      "Ag2CO3           45   79.378   1.7944  3.3774  3.0170    3.3476    mp-4691   \n",
      "Ag2HgI4          55   18.767   2.1218  4.6815  4.6837    4.6996   mp-23485   \n",
      "Ag2HgI4          55   18.478   1.8489  4.6688  4.6690    4.6016  mp-570256   \n",
      "Ag2HgSI2         60   28.111   2.2704  5.1252  4.8578    4.5588  mp-556866   \n",
      "Ag2PbO2          50   52.356   2.2509  5.3417  5.2727    5.3212   mp-20210   \n",
      "Ag2PdO2          50  102.867   0.5773  9.0514  7.5064    8.9833    mp-5495   \n",
      "Ag3AsS3          60   32.711   1.8911  6.6744  6.5190    6.7421    mp-4431   \n",
      "Ag3SI            55   50.411   1.5761  6.1209  6.1208    6.1209   mp-22995   \n",
      "Ag5(PbO3)2       65   97.456   0.0143  5.7170  5.7174    6.5993   mp-22286   \n",
      "AgBi(PS3)2       50   30.278   1.5146  8.0614  7.7174    7.8221  mp-556434   \n",
      "AgBiSCl2         55   48.833   1.5727  7.0207  6.3534    6.3416  mp-556094   \n",
      "AgBr             50   46.067   2.5156  4.1779  4.1779    4.1779   mp-23231   \n",
      "AgCN             45   56.411   3.9500  3.1192  3.4263    2.9616    mp-9519   \n",
      "AgCNO            45   25.689   3.2172  2.3986  5.7435    2.9619    mp-6070   \n",
      "AgCNO            50   19.667   4.0953  2.5585  2.6171    3.7710    mp-6781   \n",
      "AgCO2            45   69.689   2.6926  3.0869  2.7752    3.5000    mp-5282   \n",
      "AgCl             50   50.000   2.8783  3.6091  3.6091    3.6091   mp-22922   \n",
      "AgHgSI           60   25.700   2.4208  5.5314  4.5966    4.9132   mp-23140   \n",
      "\n",
      "            op_gap          jid  \n",
      "formula                          \n",
      "Ag          0.0041  JVASP-25121  \n",
      "Ag          0.0058  JVASP-25341  \n",
      "Ag2CO3      0.1972   JVASP-9675  \n",
      "Ag2HgI4     1.0656   JVASP-3681  \n",
      "Ag2HgI4     0.9275  JVASP-22659  \n",
      "Ag2HgSI2    1.1693  JVASP-25823  \n",
      "Ag2PbO2     1.4752   JVASP-4993  \n",
      "Ag2PdO2     0.0120   JVASP-8088  \n",
      "Ag3AsS3     1.0559   JVASP-9599  \n",
      "Ag3SI       0.6611   JVASP-8571  \n",
      "Ag5(PbO3)2  0.0067  JVASP-23764  \n",
      "AgBi(PS3)2  1.1085  JVASP-25879  \n",
      "AgBiSCl2    1.0928  JVASP-26802  \n",
      "AgBr        1.0021   JVASP-8583  \n",
      "AgCN        3.3327   JVASP-4639  \n",
      "AgCNO       2.0275   JVASP-8106  \n",
      "AgCNO       3.1803   JVASP-8113  \n",
      "AgCO2       2.2747   JVASP-9707  \n",
      "AgCl        0.9251   JVASP-1954  \n",
      "AgHgSI      1.2331  JVASP-12500  \n"
     ]
    },
    {
     "name": "stderr",
     "output_type": "stream",
     "text": [
      "/nix/store/d70vr7s8v2ncj53mbp2v4w6nb5bk8zzz-python3.6-ipykernel-4.8.2/lib/python3.6/site-packages/ipykernel_launcher.py:1: DeprecationWarning: \n",
      ".ix is deprecated. Please use\n",
      ".loc for label based indexing or\n",
      ".iloc for positional indexing\n",
      "\n",
      "See the documentation here:\n",
      "http://pandas.pydata.org/pandas-docs/stable/indexing.html#ix-indexer-is-deprecated\n",
      "  \"\"\"Entry point for launching an IPython kernel.\n"
     ]
    }
   ],
   "source": [
    "print(data_all_sorted.ix[:20])"
   ]
  },
  {
   "cell_type": "code",
   "execution_count": 56,
   "metadata": {},
   "outputs": [
    {
     "name": "stdout",
     "output_type": "stream",
     "text": [
      "              epsx     epsy      epsz      fin_en  form_enp       gv    icsd  \\\n",
      "formula                                                                        \n",
      "BN          4.5374   4.5374    4.5374  -15.496471    -1.338  392.440  162874   \n",
      "BN          4.5530   4.5530    4.2932  -61.098987    -1.227  318.687  162875   \n",
      "Ba(AgS)2    8.2072   8.2072    7.6833   -8.747347    -0.957   17.633   50183   \n",
      "Ba(CdP)2   15.6211  15.6211   12.9997   -5.752900    -0.643   31.613   30915   \n",
      "Ba(CdSb)2  29.6579  29.6580   17.5694   -1.739801    -0.567   17.173   32021   \n",
      "Ba(CuO)2    6.0096   5.9904    5.9179  -25.058184    -1.513   24.500    9456   \n",
      "Ba(CuSe)2  12.6360  12.6191   11.6776   -6.785087    -0.907   22.067   89576   \n",
      "Ba(MgAs)2   9.6597   9.6597   10.0076   -8.779562    -1.040   35.587   30916   \n",
      "Ba(MgBi)2  14.8204  14.8204   14.7472   -3.256669    -0.690   22.673  100049   \n",
      "Ba(MgP)2    8.9810   8.9810    9.2825  -10.652004    -1.064   39.940   30914   \n",
      "Ba(MgSb)2  10.9042  10.9042   11.1621   -5.957520    -0.852   26.560  100047   \n",
      "Ba(TeO3)2   5.2672   4.6871    5.1374  -72.650193    -1.664   23.787    8017   \n",
      "Ba2BiSbO6   5.4873   5.5082    5.4044  -44.281747    -2.234    8.573  162454   \n",
      "Ba2CaUO6    4.5737   4.6647    4.5874 -119.914580    -3.400   44.593  246110   \n",
      "Ba2CuClO2   4.0483   4.0589    3.7321  -18.978877    -2.274   15.647    1038   \n",
      "Ba2CuF6    12.4634  10.0558    4.0294  -54.443980    -3.295   23.280  100028   \n",
      "Ba2DyNbO6   5.0812   5.0812    5.0812  -60.887155    -3.310   85.580  109156   \n",
      "Ba2DySbO6   4.2899   4.2899    4.2899  -51.705628    -2.909   86.640  150863   \n",
      "Ba2ErNbO6   5.0834   5.0834    5.0834  -61.063761    -3.334   89.540  245456   \n",
      "Ba2ErSbO6   4.2789   4.2789    4.2789  -51.831471    -2.928   89.060  245459   \n",
      "Ba2H6Os     5.1007   5.1007    5.1007  -32.960184    -0.571   21.960   40608   \n",
      "Ba2H6Ru     5.0624   5.0624    5.0624  -31.103783    -0.582   22.800   40607   \n",
      "Ba2HfS4     7.5130   7.5085    7.2571  -31.388882    -2.104   33.980   80652   \n",
      "Ba2HoNbO6   5.0842   5.0842    5.0842  -60.994104    -3.323   87.320  109157   \n",
      "Ba2HoSbO6   4.2851   4.2851    4.2851  -51.787461    -2.919   87.980  150862   \n",
      "Ba2NdSbO6   4.3136   4.3136    4.3137  -51.060946    -2.814   73.020   38328   \n",
      "Ba2PCl      6.9861   7.0097    6.6087  -10.601526    -1.790   19.287   28134   \n",
      "Ba2PrSbO6   4.3565   4.3663    4.3175  -50.986243    -2.799   31.067  246160   \n",
      "Ba2PrSbO6   4.3178   4.3178    4.3178  -50.916042    -2.792   69.880   77660   \n",
      "Ba2SmNbO6   5.0609   5.0609    5.0609  -60.347222    -3.240   76.820  109153   \n",
      "...            ...      ...       ...         ...       ...      ...     ...   \n",
      "CsK2Sb      7.9617   7.9617    7.9617   -0.231495    -0.532   10.540   53237   \n",
      "Cu          8.0068   8.0068    7.5706    0.597691     0.035   52.100  248435   \n",
      "Cu2HgI4     9.1775   9.1775    9.6593    3.945099    -0.196    9.280   30265   \n",
      "Cu2O        8.5202   8.5202    8.5202   -7.307807    -0.524    8.500  172174   \n",
      "Cu2SnTe3   34.2040  31.3700   31.1677   -3.780031    -0.118   19.007  160882   \n",
      "Cu2WS4      8.6162   8.6162    6.9047  -22.311246    -0.497   21.400   72529   \n",
      "Cu2WS4      8.8431   8.6994    8.0025  -22.342779    -0.502   22.733   98909   \n",
      "Cu3N       12.7992  12.7992   12.7992   -4.239609     0.233   48.740  245996   \n",
      "CuAsSe2    20.3100  20.6927   14.2603   -6.290517    -0.016   14.820   42884   \n",
      "CuBiS2     16.2051  15.9436   16.4993  -28.152350    -0.349   22.453   34936   \n",
      "CuBr        5.5925   5.5925    5.5613    0.330975    -0.255   10.320   78276   \n",
      "CuBr        8.3321   8.3321    5.2206    0.388551    -0.241   15.280   30091   \n",
      "CuCl        5.1667   5.1667    5.1667   -0.435778    -0.433    8.260   23988   \n",
      "CuI         6.0898   6.0898    6.5808    1.399970    -0.145   11.307   84217   \n",
      "CuI         6.3205   6.3205    6.4934    1.453988    -0.131   10.007   78268   \n",
      "CuSe2Cl    10.6686  13.8285    8.7344  -17.703677    -0.289   11.700   68292   \n",
      "Dy2O3       4.5948   4.5948    4.4351  -32.350793    -3.795   70.013  160213   \n",
      "Dy2SO2      5.3911   5.3911    5.3844  -29.898048    -3.446   70.167  109332   \n",
      "Dy3SnC     22.8178  22.8178   22.8178  -17.615382    -0.681   63.980   56406   \n",
      "DyAgSn     40.1751  40.1751   28.4469   -7.748955    -0.601   41.773   55823   \n",
      "DyAgTe2    12.2104  12.2104   11.4381  -15.289446    -0.925   23.567  160122   \n",
      "DyBi       28.5524  28.5524   28.5524   -4.894866    -0.910   38.260   58778   \n",
      "DyBi2BrO4   6.2520   6.2520    5.6470  -34.385463    -2.174   44.807   92417   \n",
      "DyBi2IO4    7.0092   7.0092    6.3075  -33.475822    -2.100   43.920   92431   \n",
      "DyCuSeO     8.3991   8.3991    7.7488  -29.570810    -2.103   41.373   80359   \n",
      "DyGa2      37.7341  37.7341  131.9691   -2.632598    -0.643   57.713  163705   \n",
      "DySBr       5.3649   5.5813    4.8488  -21.227897    -2.116   20.347   79106   \n",
      "DySI        5.9358   5.4669    5.3021  -19.276841    -1.896   17.247   79107   \n",
      "DyTaO4      4.8444   5.2342    4.7420  -89.512595    -3.518   76.773  415435   \n",
      "DyTiClO3    4.9642   5.1619    4.8643  -73.021617    -3.297   43.667   73096   \n",
      "\n",
      "           kp_leng       kv  mbj_gap    mepsx    mepsy     mepsz        mpid  \\\n",
      "formula                                                                        \n",
      "BN              45  378.167   5.8126   4.1431   4.1431    4.1431     mp-1639   \n",
      "BN              50  356.311   6.3491   4.0992   4.0992    3.9210    mp-13151   \n",
      "Ba(AgS)2        55   55.856   2.3651   5.8493   5.8479    6.0208     mp-8579   \n",
      "Ba(CdP)2        65   53.856   1.3631   9.4514   9.4863    9.0864     mp-8279   \n",
      "Ba(CdSb)2       70   38.689   0.3575  15.4294  15.4294   11.8763     mp-8150   \n",
      "Ba(CuO)2        50   75.633   1.6268   5.3110   5.2996    5.2485     mp-7374   \n",
      "Ba(CuSe)2       60   59.611   1.1145   7.5887   7.5903    7.6877    mp-10437   \n",
      "Ba(MgAs)2       60   48.144   1.6045   7.6655   7.6753    7.9281     mp-8280   \n",
      "Ba(MgBi)2       70   34.056   1.1512  10.9365  10.9334   11.1922    mp-29209   \n",
      "Ba(MgP)2        55   53.800   1.6748   6.9196   6.9792    7.1083     mp-8278   \n",
      "Ba(MgSb)2       65   38.867   1.2753   8.8781   8.8796    9.1060     mp-9567   \n",
      "Ba(TeO3)2       50   90.811   2.5398   4.0812   3.8016    3.9236    mp-27254   \n",
      "Ba2BiSbO6       50  126.056   2.9737   4.4465   4.4593    4.3965    mp-23091   \n",
      "Ba2CaUO6        50  102.689   2.4414   4.2085   4.3054    4.2331   mp-557448   \n",
      "Ba2CuClO2       40   47.411   2.7000   3.5074   3.5195    3.1447   mp-551456   \n",
      "Ba2CuF6         50   51.000   5.6657  17.7424  18.0092    4.6884     mp-3879   \n",
      "Ba2DyNbO6       50  144.833   3.6628   4.2865   4.2865    4.2865    mp-12640   \n",
      "Ba2DySbO6       50  138.900   4.7815   3.5953   3.5953    3.5953     mp-6192   \n",
      "Ba2ErNbO6       50  149.033   3.6508   4.2928   4.2928    4.2928     mp-6653   \n",
      "Ba2ErSbO6       50  141.833   4.6965   3.5908   3.5907    3.5907     mp-6231   \n",
      "Ba2H6Os         50   47.000   2.4713   4.3318   4.3315    4.3317   mp-697044   \n",
      "Ba2H6Ru         50   45.200   2.1520   4.4154   4.4151    4.4152   mp-697038   \n",
      "Ba2HfS4         60   62.367   1.4278   6.1916   6.1834    6.0111     mp-9321   \n",
      "Ba2HoNbO6       50  145.733   3.6652   4.2856   4.2855    4.2855    mp-12641   \n",
      "Ba2HoSbO6       50  142.333   4.7413   3.5925   3.5925    3.5926     mp-6687   \n",
      "Ba2NdSbO6       50  130.600   5.0527   3.7125   3.7125    3.7125    mp-14292   \n",
      "Ba2PCl          50   31.644   1.8389   4.9646   4.9678    4.9122    mp-27869   \n",
      "Ba2PrSbO6       50  126.644   4.9426   3.7138   3.7219    3.6815     mp-6692   \n",
      "Ba2PrSbO6       50  128.867   5.0463   3.7264   3.7265    3.7264    mp-10731   \n",
      "Ba2SmNbO6       50  139.033   3.6772   4.2558   4.2558    4.2558    mp-22184   \n",
      "...            ...      ...      ...      ...      ...       ...         ...   \n",
      "CsK2Sb          60   15.267   2.0427   5.8620   5.8599    5.8716   mp-581024   \n",
      "Cu             100  138.133   0.0007   6.9580   6.9580    6.5672  mp-1010136   \n",
      "Cu2HgI4         60   23.300   0.6013   6.6362   6.6352    7.2587   mp-568598   \n",
      "Cu2O            60  115.167   0.4878   7.0850   7.0850    7.0850      mp-361   \n",
      "Cu2SnTe3        65   46.944   0.1113  32.4552  37.0412   26.8144    mp-13089   \n",
      "Cu2WS4          45   33.533   1.5542   7.2153   7.2195    5.6900     mp-8976   \n",
      "Cu2WS4          50   35.756   1.6956   7.9435   7.7946    7.0694   mp-557373   \n",
      "Cu3N            70  116.733   0.3390  11.7108  11.7108   11.7108     mp-1933   \n",
      "CuAsSe2         65   47.800   0.8358  16.2196  16.5491   11.0182    mp-29643   \n",
      "CuBiS2          60   53.956   0.8784  12.0155  12.2333   12.6182    mp-22982   \n",
      "CuBr            55   24.367   1.8765   4.4877   4.4879    4.5996    mp-22917   \n",
      "CuBr            60   49.700   1.1372   5.6838   5.6904    4.2080    mp-23227   \n",
      "CuCl            55   53.267   1.5812   3.9833   3.9768    4.0108    mp-22914   \n",
      "CuI             60   24.078   3.1455   4.0669   4.0683    4.3601   mp-570081   \n",
      "CuI             60   21.178   3.0950   4.1832   4.1834    4.3456    mp-22863   \n",
      "CuSe2Cl         50   22.733   0.5032  11.5358  14.8583    9.1268    mp-31038   \n",
      "Dy2O3           45  157.322   5.8210   3.7133   3.7133    3.5499    mp-13064   \n",
      "Dy2SO2          50  128.878   4.5969   4.4027   4.4027    4.4284    mp-12669   \n",
      "Dy3SnC          75   87.133   0.0653  20.7465  20.7466   20.7466    mp-19899   \n",
      "DyAgSn          65   77.422   0.1149  34.2628  34.2631   26.2389    mp-21198   \n",
      "DyAgTe2         55   44.911   1.3398   8.9658   8.9659    8.5281     mp-4024   \n",
      "DyBi            95   57.267   0.0366  26.6611  26.6578   26.6585    mp-22907   \n",
      "DyBi2BrO4       55   81.478   3.2105   4.5175   4.5177    4.1287   mp-552992   \n",
      "DyBi2IO4        60   78.833   2.7204   5.0922   5.0921    4.7073   mp-546266   \n",
      "DyCuSeO         60   92.722   2.3015   6.6213   6.6213    6.2607     mp-9304   \n",
      "DyGa2           95   81.822   0.0052  38.0528  38.0550  286.3772    mp-20064   \n",
      "DySBr           75   34.578   3.5937   4.7844   4.9098    4.4417    mp-28928   \n",
      "DySI            55   28.778   3.0872   5.2074   4.8193    4.8734    mp-28929   \n",
      "DyTaO4          45  162.989   5.3197   3.8898   4.1536    3.8363     mp-7703   \n",
      "DyTiClO3        45  104.278   3.6356   4.1707   4.3808    4.0980   mp-556108   \n",
      "\n",
      "           op_gap          jid  \n",
      "formula                         \n",
      "BN         4.8134   JVASP-7836  \n",
      "BN         5.0553   JVASP-7776  \n",
      "Ba(AgS)2   0.9243   JVASP-2835  \n",
      "Ba(CdP)2   0.0559   JVASP-2760  \n",
      "Ba(CdSb)2  0.0164  JVASP-16027  \n",
      "Ba(CuO)2   1.5251  JVASP-10116  \n",
      "Ba(CuSe)2  0.2637   JVASP-7656  \n",
      "Ba(MgAs)2  1.1521   JVASP-2763  \n",
      "Ba(MgBi)2  0.2145   JVASP-4053  \n",
      "Ba(MgP)2   1.1513   JVASP-2757  \n",
      "Ba(MgSb)2  0.9118   JVASP-3000  \n",
      "Ba(TeO3)2  1.9079  JVASP-12740  \n",
      "Ba2BiSbO6  2.0782  JVASP-12489  \n",
      "Ba2CaUO6   2.3116  JVASP-25634  \n",
      "Ba2CuClO2  2.4154  JVASP-26389  \n",
      "Ba2CuF6    4.2903   JVASP-9443  \n",
      "Ba2DyNbO6  2.9227  JVASP-10997  \n",
      "Ba2DySbO6  3.7224   JVASP-9771  \n",
      "Ba2ErNbO6  2.9192   JVASP-9994  \n",
      "Ba2ErSbO6  3.6252   JVASP-9774  \n",
      "Ba2H6Os    1.9379  JVASP-22690  \n",
      "Ba2H6Ru    1.8541  JVASP-22689  \n",
      "Ba2HfS4    0.9122   JVASP-2952  \n",
      "Ba2HoNbO6  2.9210  JVASP-10998  \n",
      "Ba2HoSbO6  3.6713   JVASP-9997  \n",
      "Ba2NdSbO6  4.0225  JVASP-11177  \n",
      "Ba2PCl     1.0632   JVASP-2032  \n",
      "Ba2PrSbO6  3.9993   JVASP-9998  \n",
      "Ba2PrSbO6  4.0514  JVASP-10702  \n",
      "Ba2SmNbO6  2.9243  JVASP-12412  \n",
      "...           ...          ...  \n",
      "CsK2Sb     1.2076  JVASP-22672  \n",
      "Cu         0.0007  JVASP-25062  \n",
      "Cu2HgI4    0.2967  JVASP-22642  \n",
      "Cu2O       0.1349   JVASP-1216  \n",
      "Cu2SnTe3   0.0030  JVASP-17162  \n",
      "Cu2WS4     0.7870   JVASP-8190  \n",
      "Cu2WS4     0.9011  JVASP-22592  \n",
      "Cu3N       0.1404   JVASP-7896  \n",
      "CuAsSe2    0.0588   JVASP-5701  \n",
      "CuBiS2     0.0213  JVASP-12471  \n",
      "CuBr       1.0124   JVASP-5176  \n",
      "CuBr       0.2191   JVASP-8582  \n",
      "CuCl       0.4512   JVASP-1201  \n",
      "CuI        1.6466  JVASP-22654  \n",
      "CuI        1.5711   JVASP-5164  \n",
      "CuSe2Cl    0.1626   JVASP-5827  \n",
      "Dy2O3      4.2771   JVASP-7767  \n",
      "Dy2SO2     3.1250   JVASP-7752  \n",
      "Dy3SnC     0.0127  JVASP-17545  \n",
      "DyAgSn     0.0239  JVASP-17998  \n",
      "DyAgTe2    0.8761   JVASP-2322  \n",
      "DyBi       0.0198  JVASP-18316  \n",
      "DyBi2BrO4  1.4610  JVASP-26416  \n",
      "DyBi2IO4   1.5217  JVASP-26331  \n",
      "DyCuSeO    1.3840   JVASP-8201  \n",
      "DyGa2      0.0045   JVASP-7942  \n",
      "DySBr      2.7707   JVASP-4020  \n",
      "DySI       2.5766   JVASP-4023  \n",
      "DyTaO4     4.0518  JVASP-10156  \n",
      "DyTiClO3   3.1760  JVASP-26807  \n",
      "\n",
      "[299 rows x 16 columns]\n"
     ]
    },
    {
     "name": "stderr",
     "output_type": "stream",
     "text": [
      "/nix/store/d70vr7s8v2ncj53mbp2v4w6nb5bk8zzz-python3.6-ipykernel-4.8.2/lib/python3.6/site-packages/ipykernel_launcher.py:1: DeprecationWarning: \n",
      ".ix is deprecated. Please use\n",
      ".loc for label based indexing or\n",
      ".iloc for positional indexing\n",
      "\n",
      "See the documentation here:\n",
      "http://pandas.pydata.org/pandas-docs/stable/indexing.html#ix-indexer-is-deprecated\n",
      "  \"\"\"Entry point for launching an IPython kernel.\n"
     ]
    }
   ],
   "source": [
    "print(data_all_sorted.ix[100:399])"
   ]
  },
  {
   "cell_type": "code",
   "execution_count": 60,
   "metadata": {},
   "outputs": [
    {
     "name": "stdout",
     "output_type": "stream",
     "text": [
      "            epsx     epsy     epsz\n",
      "formula                           \n",
      "BaO       5.0126   5.0126   4.4529\n",
      "BaO2      3.6134   3.6709   3.9081\n",
      "BaP3     11.5224  11.1754  10.7349\n",
      "BaPbO3    8.9412   9.0321   8.9705\n",
      "BaPdS2   10.5437   9.2255   7.9498\n",
      "BaS2      5.1928   6.7944   4.8265\n"
     ]
    }
   ],
   "source": [
    "print(data_all_sorted.loc['BaO':'BaS2', 'epsx':'epsz'])"
   ]
  },
  {
   "cell_type": "code",
   "execution_count": 61,
   "metadata": {},
   "outputs": [
    {
     "name": "stdout",
     "output_type": "stream",
     "text": [
      "epsx    11.5224\n",
      "epsy    11.1754\n",
      "epsz    10.7349\n",
      "dtype: float64\n"
     ]
    }
   ],
   "source": [
    "print(data_all_sorted.loc['BaO':'BaS2', 'epsx':'epsz'].max())"
   ]
  },
  {
   "cell_type": "code",
   "execution_count": 62,
   "metadata": {},
   "outputs": [
    {
     "name": "stdout",
     "output_type": "stream",
     "text": [
      "epsx    3.6134\n",
      "epsy    3.6709\n",
      "epsz    3.9081\n",
      "dtype: float64\n"
     ]
    }
   ],
   "source": [
    "print(data_all_sorted.loc['BaO':'BaS2', 'epsx':'epsz'].min())"
   ]
  },
  {
   "cell_type": "code",
   "execution_count": 16,
   "metadata": {},
   "outputs": [
    {
     "name": "stdout",
     "output_type": "stream",
     "text": [
      "800\n"
     ]
    }
   ],
   "source": [
    "print(data.loc[\"JVASP-12191\", \"encut\"])"
   ]
  },
  {
   "cell_type": "code",
   "execution_count": 76,
   "metadata": {},
   "outputs": [
    {
     "name": "stdout",
     "output_type": "stream",
     "text": [
      "Subset of data:\n",
      "             epsx     epsy     epsz\n",
      "formula                           \n",
      "BaO       5.0126   5.0126   4.4529\n",
      "BaO2      3.6134   3.6709   3.9081\n",
      "BaP3     11.5224  11.1754  10.7349\n",
      "BaPbO3    8.9412   9.0321   8.9705\n",
      "BaPdS2   10.5437   9.2255   7.9498\n",
      "BaS2      5.1928   6.7944   4.8265\n",
      "\n",
      "Where are values large?\n",
      "           epsx   epsy   epsz\n",
      "formula                     \n",
      "BaO      False  False  False\n",
      "BaO2     False  False  False\n",
      "BaP3      True   True   True\n",
      "BaPbO3    True   True   True\n",
      "BaPdS2    True   True   True\n",
      "BaS2     False   True  False\n"
     ]
    }
   ],
   "source": [
    "# Use a subset of data to keep output readable.\n",
    "subset = data_all_sorted.loc['BaO':'BaS2', 'epsx':'epsz']\n",
    "print('Subset of data:\\n', subset)\n",
    "\n",
    "# Which values were greater than 10000 ?\n",
    "print('\\nWhere are values large?\\n', subset > 6)\n"
   ]
  },
  {
   "cell_type": "code",
   "execution_count": 77,
   "metadata": {},
   "outputs": [
    {
     "name": "stdout",
     "output_type": "stream",
     "text": [
      "            epsx     epsy     epsz\n",
      "formula                           \n",
      "BaO          NaN      NaN      NaN\n",
      "BaO2         NaN      NaN      NaN\n",
      "BaP3     11.5224  11.1754  10.7349\n",
      "BaPbO3    8.9412   9.0321   8.9705\n",
      "BaPdS2   10.5437   9.2255   7.9498\n",
      "BaS2         NaN   6.7944      NaN\n"
     ]
    }
   ],
   "source": [
    "mask = subset > 6\n",
    "print(subset[mask])"
   ]
  },
  {
   "cell_type": "code",
   "execution_count": 78,
   "metadata": {},
   "outputs": [
    {
     "name": "stdout",
     "output_type": "stream",
     "text": [
      "          epsx   epsy   epsz\n",
      "formula                     \n",
      "BaO      False  False  False\n",
      "BaO2     False  False  False\n",
      "BaP3      True   True   True\n",
      "BaPbO3    True   True   True\n",
      "BaPdS2    True   True   True\n",
      "BaS2     False   True  False\n",
      "            epsx     epsy     epsz\n",
      "formula                           \n",
      "BaO          NaN      NaN      NaN\n",
      "BaO2         NaN      NaN      NaN\n",
      "BaP3     11.5224  11.1754  10.7349\n",
      "BaPbO3    8.9412   9.0321   8.9705\n",
      "BaPdS2   10.5437   9.2255   7.9498\n",
      "BaS2         NaN   6.7944      NaN\n"
     ]
    }
   ],
   "source": [
    "mask = subset > 6\n",
    "print(mask)\n",
    "print(subset[mask])"
   ]
  },
  {
   "cell_type": "code",
   "execution_count": 80,
   "metadata": {},
   "outputs": [
    {
     "name": "stdout",
     "output_type": "stream",
     "text": [
      "            epsx       epsy       epsz\n",
      "count   3.000000   4.000000   3.000000\n",
      "mean   10.335767   9.056850   9.218400\n",
      "std     1.303102   1.792204   1.409002\n",
      "min     8.941200   6.794400   7.949800\n",
      "25%     9.742450   8.472675   8.460150\n",
      "50%    10.543700   9.128800   8.970500\n",
      "75%    11.033050   9.712975   9.852700\n",
      "max    11.522400  11.175400  10.734900\n"
     ]
    }
   ],
   "source": [
    "print(subset[subset > 6].describe())"
   ]
  },
  {
   "cell_type": "code",
   "execution_count": 91,
   "metadata": {},
   "outputs": [
    {
     "ename": "AttributeError",
     "evalue": "module 'pandas' has no attribute 'math'",
     "output_type": "error",
     "traceback": [
      "\u001b[0;31m---------------------------------------------------------------------------\u001b[0m",
      "\u001b[0;31mAttributeError\u001b[0m                            Traceback (most recent call last)",
      "\u001b[0;32m<ipython-input-91-554fa34cfd1c>\u001b[0m in \u001b[0;36m<module>\u001b[0;34m()\u001b[0m\n\u001b[0;32m----> 1\u001b[0;31m \u001b[0mpandas\u001b[0m\u001b[0;34m.\u001b[0m\u001b[0mmath\u001b[0m\u001b[0;34m\u001b[0m\u001b[0m\n\u001b[0m",
      "\u001b[0;31mAttributeError\u001b[0m: module 'pandas' has no attribute 'math'"
     ]
    }
   ],
   "source": [
    "pandas."
   ]
  },
  {
   "cell_type": "code",
   "execution_count": 134,
   "metadata": {},
   "outputs": [
    {
     "name": "stdout",
     "output_type": "stream",
     "text": [
      "<class 'pandas.core.series.Series'>\n",
      "formula\n",
      "As       0.806642\n",
      "MoO3     0.107143\n",
      "AgI      0.095729\n",
      "ZrBrN    0.365366\n",
      "InBr3    0.016634\n",
      "dtype: float64\n",
      "formula\n",
      "Si    0.122102\n",
      "Si    0.000000\n",
      "Si    0.000010\n",
      "Si    0.427006\n",
      "Si    0.200976\n",
      "dtype: float64\n"
     ]
    }
   ],
   "source": [
    "import numpy as np\n",
    "\n",
    "\n",
    "dielectrics_sq = data_all[['epsx', 'epsy', 'epsz', 'epsx']].apply(np.sqrt)\n",
    "\n",
    "birefringence = dielectrics_sq.diff(axis=1).aggregate('max', axis=1)\n",
    "\n",
    "print(type(birefringence))\n",
    "print(birefringence.iloc[:5])\n",
    "print(birefringence.loc[\"Si\"])\n"
   ]
  },
  {
   "cell_type": "code",
   "execution_count": 137,
   "metadata": {},
   "outputs": [
    {
     "name": "stdout",
     "output_type": "stream",
     "text": [
      "             epsx      epsy      epsz      epsx\n",
      "formula                                        \n",
      "As       4.589913  5.396554  4.196022  4.589913\n",
      "MoO3     2.528498  2.635640  2.525787  2.528498\n",
      "AgI      2.466536  2.466536  2.562265  2.466536\n",
      "ZrBrN    2.651716  2.512509  2.286351  2.651716\n",
      "InBr3    2.161897  2.178532  2.184537  2.161897\n"
     ]
    }
   ],
   "source": [
    "import numpy as np\n",
    "\n",
    "\n",
    "dielectrics_sq = data_all[['epsx', 'epsy', 'epsz', 'epsx']].apply(np.sqrt)\n",
    "print(dielectrics_sq.iloc[:5])"
   ]
  },
  {
   "cell_type": "code",
   "execution_count": 142,
   "metadata": {},
   "outputs": [
    {
     "name": "stdout",
     "output_type": "stream",
     "text": [
      "formula\n",
      "VOF3         0.193174\n",
      "ZnCl2        0.002078\n",
      "ScHO2        0.026299\n",
      "Zr(MoO4)2    0.168030\n",
      "CoF2         0.984077\n",
      "RbPS3        0.063275\n",
      "BeO          0.000000\n",
      "CaCl2        0.030760\n",
      "SrClF        0.018030\n",
      "SrBrF        0.028253\n",
      "dtype: float64\n",
      "\n",
      "formula\n",
      "Si    0.122102\n",
      "Si    0.000000\n",
      "Si    0.000010\n",
      "Si    0.427006\n",
      "Si    0.200976\n",
      "dtype: float64\n"
     ]
    }
   ],
   "source": [
    "birefringence = dielectrics_sq.diff(axis=1).aggregate('max', axis=1)\n",
    "print(birefringence.iloc[10:20])\n",
    "print()\n",
    "print(birefringence.loc[\"Si\"])"
   ]
  },
  {
   "cell_type": "code",
   "execution_count": 143,
   "metadata": {},
   "outputs": [
    {
     "name": "stdout",
     "output_type": "stream",
     "text": [
      "formula\n",
      "BeO         0.0\n",
      "SrCl2       0.0\n",
      "NbSbRu      0.0\n",
      "K3MoF6      0.0\n",
      "HfVF6       0.0\n",
      "MoF6        0.0\n",
      "Rb2SnBr6    0.0\n",
      "Sr3BiN      0.0\n",
      "LiMgBi      0.0\n",
      "CsK2Sb      0.0\n",
      "dtype: float64\n"
     ]
    }
   ],
   "source": [
    "print(birefringence[birefringence < 1e-5][:10])"
   ]
  },
  {
   "cell_type": "code",
   "execution_count": null,
   "metadata": {},
   "outputs": [],
   "source": [
    "birefringence = data_all.aggregate([lambda x: rt_e(x.epsx, x.epsz), asq_e , axis=1)"
   ]
  },
  {
   "cell_type": "code",
   "execution_count": 18,
   "metadata": {},
   "outputs": [
    {
     "name": "stdout",
     "output_type": "stream",
     "text": [
      "jid\n",
      "JVASP-12191     800\n",
      "JVASP-12197    1150\n",
      "JVASP-8236      800\n",
      "JVASP-8243      750\n",
      "JVASP-8256      800\n",
      "JVASP-8257      800\n",
      "JVASP-8261      950\n",
      "JVASP-8264      800\n",
      "JVASP-8266      800\n",
      "JVASP-8275      900\n",
      "JVASP-8280     1150\n",
      "JVASP-8281      850\n",
      "JVASP-8284      750\n",
      "JVASP-8288      900\n",
      "JVASP-8294      750\n",
      "JVASP-8297      850\n",
      "JVASP-8302      700\n",
      "JVASP-8305      850\n",
      "JVASP-8311     1200\n",
      "JVASP-8316      850\n",
      "JVASP-8318      750\n",
      "JVASP-8319      850\n",
      "JVASP-8320      800\n",
      "JVASP-8327      750\n",
      "JVASP-8329      900\n",
      "JVASP-8338      850\n",
      "JVASP-8339      850\n",
      "JVASP-8344      850\n",
      "JVASP-8358      750\n",
      "JVASP-8362      850\n",
      "               ... \n",
      "JVASP-11273    1200\n",
      "JVASP-11286     650\n",
      "JVASP-11300    1200\n",
      "JVASP-11311    1200\n",
      "JVASP-11321     750\n",
      "JVASP-11324    1250\n",
      "JVASP-11344    1200\n",
      "JVASP-11355    1200\n",
      "JVASP-11504    1250\n",
      "JVASP-11523    1200\n",
      "JVASP-11550     900\n",
      "JVASP-11560     750\n",
      "JVASP-11570    1150\n",
      "JVASP-11597     650\n",
      "JVASP-11610    1150\n",
      "JVASP-11611    1200\n",
      "JVASP-11614    1200\n",
      "JVASP-15834     600\n",
      "JVASP-16928     650\n",
      "JVASP-16930     600\n",
      "JVASP-17357     750\n",
      "JVASP-17904     500\n",
      "JVASP-19359    1250\n",
      "JVASP-19406    1250\n",
      "JVASP-8388     1200\n",
      "JVASP-30523    1250\n",
      "JVASP-30594    1200\n",
      "JVASP-30681    1250\n",
      "JVASP-30687    1250\n",
      "JVASP-30715    1200\n",
      "Name: encut, Length: 127, dtype: int64\n"
     ]
    }
   ],
   "source": [
    "print(data.loc[:, \"encut\"])"
   ]
  },
  {
   "cell_type": "code",
   "execution_count": 19,
   "metadata": {},
   "outputs": [
    {
     "name": "stdout",
     "output_type": "stream",
     "text": [
      "              mepsx   mepsy   mepsz\n",
      "jid                                \n",
      "JVASP-11300  2.2755  2.5413  2.1905\n",
      "JVASP-11311  2.6949  2.5110 -2.5253\n",
      "JVASP-11321  2.1129  2.2075  2.2257\n",
      "JVASP-11324  4.9473  4.7709  4.4310\n",
      "JVASP-11344  7.5199  7.5200  5.0207\n",
      "JVASP-11355  4.6593  4.2573  4.4676\n",
      "JVASP-11504  5.2302  5.7111  4.1950\n",
      "JVASP-11523  2.9188  2.9174  2.5367\n",
      "JVASP-11550  6.5291  7.6628  7.7932\n"
     ]
    }
   ],
   "source": [
    "print(data.loc['JVASP-11300':'JVASP-11550', 'mepsx':'mepsz'])"
   ]
  },
  {
   "cell_type": "code",
   "execution_count": 20,
   "metadata": {},
   "outputs": [
    {
     "name": "stdout",
     "output_type": "stream",
     "text": [
      "mepsx    7.5199\n",
      "mepsy    7.6628\n",
      "mepsz    7.7932\n",
      "dtype: float64\n"
     ]
    }
   ],
   "source": [
    "print(data.loc['JVASP-11300':'JVASP-11550', 'mepsx':'mepsz'].max())"
   ]
  },
  {
   "cell_type": "code",
   "execution_count": 21,
   "metadata": {},
   "outputs": [
    {
     "name": "stdout",
     "output_type": "stream",
     "text": [
      "mepsx    2.1129\n",
      "mepsy    2.2075\n",
      "mepsz   -2.5253\n",
      "dtype: float64\n"
     ]
    }
   ],
   "source": [
    "print(data.loc['JVASP-11300':'JVASP-11550', 'mepsx':'mepsz'].min())"
   ]
  },
  {
   "cell_type": "code",
   "execution_count": 22,
   "metadata": {},
   "outputs": [
    {
     "name": "stdout",
     "output_type": "stream",
     "text": [
      "Subset of data:\n",
      "                epsx     epsy     epsz\n",
      "jid                                  \n",
      "JVASP-11300  3.1203   3.4152   2.9590\n",
      "JVASP-11311  6.8248   5.4114  21.3619\n",
      "JVASP-11321  2.8062   2.9734   3.0239\n",
      "JVASP-11324  5.9298   5.7315   5.3202\n",
      "JVASP-11344  8.9217   8.9217   6.1218\n",
      "JVASP-11355  6.6939   6.1891   6.7096\n",
      "JVASP-11504  5.8536   6.3914   4.8854\n",
      "JVASP-11523  3.8440   3.8414   3.1321\n",
      "JVASP-11550  8.8014  10.5400  10.8761\n",
      "\n",
      "Where are values large?\n",
      "               epsx   epsy   epsz\n",
      "jid                             \n",
      "JVASP-11300  False  False  False\n",
      "JVASP-11311   True   True   True\n",
      "JVASP-11321  False  False  False\n",
      "JVASP-11324   True   True   True\n",
      "JVASP-11344   True   True   True\n",
      "JVASP-11355   True   True   True\n",
      "JVASP-11504   True   True   True\n",
      "JVASP-11523  False  False  False\n",
      "JVASP-11550   True   True   True\n"
     ]
    }
   ],
   "source": [
    "# Use a subset of data to keep output readable.\n",
    "subset = data.loc['JVASP-11300':'JVASP-11550', 'epsx':'epsz']\n",
    "print('Subset of data:\\n', subset)\n",
    "\n",
    "# Which values were greater than 4.0 ?\n",
    "print('\\nWhere are values large?\\n', subset > 4.5)"
   ]
  },
  {
   "cell_type": "code",
   "execution_count": 23,
   "metadata": {},
   "outputs": [
    {
     "name": "stdout",
     "output_type": "stream",
     "text": [
      "               epsx     epsy     epsz\n",
      "jid                                  \n",
      "JVASP-11300     NaN      NaN      NaN\n",
      "JVASP-11311  6.8248   5.4114  21.3619\n",
      "JVASP-11321     NaN      NaN      NaN\n",
      "JVASP-11324  5.9298   5.7315   5.3202\n",
      "JVASP-11344  8.9217   8.9217   6.1218\n",
      "JVASP-11355  6.6939   6.1891   6.7096\n",
      "JVASP-11504  5.8536   6.3914   4.8854\n",
      "JVASP-11523     NaN      NaN      NaN\n",
      "JVASP-11550  8.8014  10.5400  10.8761\n"
     ]
    }
   ],
   "source": [
    "mask = subset > 4.5\n",
    "print(subset[mask])"
   ]
  },
  {
   "cell_type": "code",
   "execution_count": 24,
   "metadata": {},
   "outputs": [
    {
     "name": "stdout",
     "output_type": "stream",
     "text": [
      "           epsx       epsy       epsz\n",
      "count  6.000000   6.000000   6.000000\n",
      "mean   7.170867   7.197517   9.212500\n",
      "std    1.367242   2.056752   6.325602\n",
      "min    5.853600   5.411400   4.885400\n",
      "25%    6.120825   5.845900   5.520600\n",
      "50%    6.759350   6.290250   6.415700\n",
      "75%    8.307250   8.289125   9.834475\n",
      "max    8.921700  10.540000  21.361900\n"
     ]
    }
   ],
   "source": [
    "print(subset[subset > 4.5].describe())"
   ]
  },
  {
   "cell_type": "code",
   "execution_count": 25,
   "metadata": {},
   "outputs": [
    {
     "data": {
      "text/html": [
       "<div>\n",
       "<style scoped>\n",
       "    .dataframe tbody tr th:only-of-type {\n",
       "        vertical-align: middle;\n",
       "    }\n",
       "\n",
       "    .dataframe tbody tr th {\n",
       "        vertical-align: top;\n",
       "    }\n",
       "\n",
       "    .dataframe thead th {\n",
       "        text-align: right;\n",
       "    }\n",
       "</style>\n",
       "<table border=\"1\" class=\"dataframe\">\n",
       "  <thead>\n",
       "    <tr style=\"text-align: right;\">\n",
       "      <th></th>\n",
       "      <th>epsx</th>\n",
       "      <th>epsy</th>\n",
       "      <th>epsz</th>\n",
       "    </tr>\n",
       "    <tr>\n",
       "      <th>jid</th>\n",
       "      <th></th>\n",
       "      <th></th>\n",
       "      <th></th>\n",
       "    </tr>\n",
       "  </thead>\n",
       "  <tbody>\n",
       "    <tr>\n",
       "      <th>JVASP-11300</th>\n",
       "      <td>False</td>\n",
       "      <td>False</td>\n",
       "      <td>False</td>\n",
       "    </tr>\n",
       "    <tr>\n",
       "      <th>JVASP-11311</th>\n",
       "      <td>True</td>\n",
       "      <td>False</td>\n",
       "      <td>True</td>\n",
       "    </tr>\n",
       "    <tr>\n",
       "      <th>JVASP-11321</th>\n",
       "      <td>False</td>\n",
       "      <td>False</td>\n",
       "      <td>False</td>\n",
       "    </tr>\n",
       "    <tr>\n",
       "      <th>JVASP-11324</th>\n",
       "      <td>True</td>\n",
       "      <td>False</td>\n",
       "      <td>False</td>\n",
       "    </tr>\n",
       "    <tr>\n",
       "      <th>JVASP-11344</th>\n",
       "      <td>True</td>\n",
       "      <td>True</td>\n",
       "      <td>False</td>\n",
       "    </tr>\n",
       "    <tr>\n",
       "      <th>JVASP-11355</th>\n",
       "      <td>True</td>\n",
       "      <td>True</td>\n",
       "      <td>False</td>\n",
       "    </tr>\n",
       "    <tr>\n",
       "      <th>JVASP-11504</th>\n",
       "      <td>False</td>\n",
       "      <td>True</td>\n",
       "      <td>False</td>\n",
       "    </tr>\n",
       "    <tr>\n",
       "      <th>JVASP-11523</th>\n",
       "      <td>False</td>\n",
       "      <td>False</td>\n",
       "      <td>False</td>\n",
       "    </tr>\n",
       "    <tr>\n",
       "      <th>JVASP-11550</th>\n",
       "      <td>True</td>\n",
       "      <td>True</td>\n",
       "      <td>True</td>\n",
       "    </tr>\n",
       "  </tbody>\n",
       "</table>\n",
       "</div>"
      ],
      "text/plain": [
       "              epsx   epsy   epsz\n",
       "jid                             \n",
       "JVASP-11300  False  False  False\n",
       "JVASP-11311   True  False   True\n",
       "JVASP-11321  False  False  False\n",
       "JVASP-11324   True  False  False\n",
       "JVASP-11344   True   True  False\n",
       "JVASP-11355   True   True  False\n",
       "JVASP-11504  False   True  False\n",
       "JVASP-11523  False  False  False\n",
       "JVASP-11550   True   True   True"
      ]
     },
     "execution_count": 25,
     "metadata": {},
     "output_type": "execute_result"
    }
   ],
   "source": [
    "mask_higher = subset.apply(lambda x:x>x.mean())\n",
    "mask_higher"
   ]
  },
  {
   "cell_type": "code",
   "execution_count": 26,
   "metadata": {},
   "outputs": [
    {
     "data": {
      "text/plain": [
       "jid\n",
       "JVASP-11300     3.164833\n",
       "JVASP-11311    11.199367\n",
       "JVASP-11321     2.934500\n",
       "JVASP-11324     5.660500\n",
       "JVASP-11344     7.988400\n",
       "JVASP-11355     6.530867\n",
       "JVASP-11504     5.710133\n",
       "JVASP-11523     3.605833\n",
       "JVASP-11550    10.072500\n",
       "dtype: float64"
      ]
     },
     "execution_count": 26,
     "metadata": {},
     "output_type": "execute_result"
    }
   ],
   "source": [
    "eps_average = subset.aggregate('sum',axis=1)/len(subset.columns)\n",
    "eps_average"
   ]
  },
  {
   "cell_type": "code",
   "execution_count": 27,
   "metadata": {},
   "outputs": [],
   "source": [
    "cutoffs = data.groupby('encut')\n",
    "#cutoffs.first()\n"
   ]
  },
  {
   "cell_type": "code",
   "execution_count": 28,
   "metadata": {},
   "outputs": [],
   "source": [
    "#cutoffs.last()"
   ]
  },
  {
   "cell_type": "code",
   "execution_count": 29,
   "metadata": {},
   "outputs": [
    {
     "data": {
      "text/html": [
       "<div>\n",
       "<style scoped>\n",
       "    .dataframe tbody tr th:only-of-type {\n",
       "        vertical-align: middle;\n",
       "    }\n",
       "\n",
       "    .dataframe tbody tr th {\n",
       "        vertical-align: top;\n",
       "    }\n",
       "\n",
       "    .dataframe thead th {\n",
       "        text-align: right;\n",
       "    }\n",
       "</style>\n",
       "<table border=\"1\" class=\"dataframe\">\n",
       "  <thead>\n",
       "    <tr style=\"text-align: right;\">\n",
       "      <th></th>\n",
       "      <th>epsx</th>\n",
       "      <th>epsy</th>\n",
       "      <th>epsz</th>\n",
       "      <th>fin_en</th>\n",
       "      <th>form_enp</th>\n",
       "      <th>gv</th>\n",
       "      <th>icsd</th>\n",
       "      <th>kp_leng</th>\n",
       "      <th>kv</th>\n",
       "      <th>mbj_gap</th>\n",
       "      <th>mepsx</th>\n",
       "      <th>mepsy</th>\n",
       "      <th>mepsz</th>\n",
       "      <th>mpid</th>\n",
       "      <th>op_gap</th>\n",
       "    </tr>\n",
       "    <tr>\n",
       "      <th>encut</th>\n",
       "      <th></th>\n",
       "      <th></th>\n",
       "      <th></th>\n",
       "      <th></th>\n",
       "      <th></th>\n",
       "      <th></th>\n",
       "      <th></th>\n",
       "      <th></th>\n",
       "      <th></th>\n",
       "      <th></th>\n",
       "      <th></th>\n",
       "      <th></th>\n",
       "      <th></th>\n",
       "      <th></th>\n",
       "      <th></th>\n",
       "    </tr>\n",
       "  </thead>\n",
       "  <tbody>\n",
       "    <tr>\n",
       "      <th>500</th>\n",
       "      <td>1</td>\n",
       "      <td>1</td>\n",
       "      <td>1</td>\n",
       "      <td>1</td>\n",
       "      <td>1</td>\n",
       "      <td>1</td>\n",
       "      <td>1</td>\n",
       "      <td>1</td>\n",
       "      <td>1</td>\n",
       "      <td>1</td>\n",
       "      <td>1</td>\n",
       "      <td>1</td>\n",
       "      <td>1</td>\n",
       "      <td>1</td>\n",
       "      <td>1</td>\n",
       "    </tr>\n",
       "    <tr>\n",
       "      <th>550</th>\n",
       "      <td>1</td>\n",
       "      <td>1</td>\n",
       "      <td>1</td>\n",
       "      <td>1</td>\n",
       "      <td>1</td>\n",
       "      <td>1</td>\n",
       "      <td>1</td>\n",
       "      <td>1</td>\n",
       "      <td>1</td>\n",
       "      <td>1</td>\n",
       "      <td>1</td>\n",
       "      <td>1</td>\n",
       "      <td>1</td>\n",
       "      <td>1</td>\n",
       "      <td>1</td>\n",
       "    </tr>\n",
       "    <tr>\n",
       "      <th>600</th>\n",
       "      <td>3</td>\n",
       "      <td>3</td>\n",
       "      <td>3</td>\n",
       "      <td>3</td>\n",
       "      <td>3</td>\n",
       "      <td>3</td>\n",
       "      <td>3</td>\n",
       "      <td>3</td>\n",
       "      <td>3</td>\n",
       "      <td>3</td>\n",
       "      <td>3</td>\n",
       "      <td>3</td>\n",
       "      <td>3</td>\n",
       "      <td>3</td>\n",
       "      <td>3</td>\n",
       "    </tr>\n",
       "    <tr>\n",
       "      <th>650</th>\n",
       "      <td>3</td>\n",
       "      <td>3</td>\n",
       "      <td>3</td>\n",
       "      <td>3</td>\n",
       "      <td>3</td>\n",
       "      <td>3</td>\n",
       "      <td>3</td>\n",
       "      <td>3</td>\n",
       "      <td>3</td>\n",
       "      <td>3</td>\n",
       "      <td>3</td>\n",
       "      <td>3</td>\n",
       "      <td>3</td>\n",
       "      <td>3</td>\n",
       "      <td>3</td>\n",
       "    </tr>\n",
       "    <tr>\n",
       "      <th>700</th>\n",
       "      <td>1</td>\n",
       "      <td>1</td>\n",
       "      <td>1</td>\n",
       "      <td>1</td>\n",
       "      <td>1</td>\n",
       "      <td>1</td>\n",
       "      <td>1</td>\n",
       "      <td>1</td>\n",
       "      <td>1</td>\n",
       "      <td>1</td>\n",
       "      <td>1</td>\n",
       "      <td>1</td>\n",
       "      <td>1</td>\n",
       "      <td>1</td>\n",
       "      <td>1</td>\n",
       "    </tr>\n",
       "    <tr>\n",
       "      <th>750</th>\n",
       "      <td>9</td>\n",
       "      <td>9</td>\n",
       "      <td>9</td>\n",
       "      <td>9</td>\n",
       "      <td>9</td>\n",
       "      <td>9</td>\n",
       "      <td>9</td>\n",
       "      <td>9</td>\n",
       "      <td>9</td>\n",
       "      <td>9</td>\n",
       "      <td>9</td>\n",
       "      <td>9</td>\n",
       "      <td>9</td>\n",
       "      <td>9</td>\n",
       "      <td>9</td>\n",
       "    </tr>\n",
       "    <tr>\n",
       "      <th>800</th>\n",
       "      <td>13</td>\n",
       "      <td>13</td>\n",
       "      <td>13</td>\n",
       "      <td>13</td>\n",
       "      <td>13</td>\n",
       "      <td>13</td>\n",
       "      <td>13</td>\n",
       "      <td>13</td>\n",
       "      <td>13</td>\n",
       "      <td>13</td>\n",
       "      <td>13</td>\n",
       "      <td>13</td>\n",
       "      <td>13</td>\n",
       "      <td>13</td>\n",
       "      <td>13</td>\n",
       "    </tr>\n",
       "    <tr>\n",
       "      <th>850</th>\n",
       "      <td>14</td>\n",
       "      <td>14</td>\n",
       "      <td>14</td>\n",
       "      <td>14</td>\n",
       "      <td>14</td>\n",
       "      <td>14</td>\n",
       "      <td>14</td>\n",
       "      <td>14</td>\n",
       "      <td>14</td>\n",
       "      <td>14</td>\n",
       "      <td>14</td>\n",
       "      <td>14</td>\n",
       "      <td>14</td>\n",
       "      <td>14</td>\n",
       "      <td>14</td>\n",
       "    </tr>\n",
       "    <tr>\n",
       "      <th>900</th>\n",
       "      <td>5</td>\n",
       "      <td>5</td>\n",
       "      <td>5</td>\n",
       "      <td>5</td>\n",
       "      <td>5</td>\n",
       "      <td>5</td>\n",
       "      <td>5</td>\n",
       "      <td>5</td>\n",
       "      <td>5</td>\n",
       "      <td>5</td>\n",
       "      <td>5</td>\n",
       "      <td>5</td>\n",
       "      <td>5</td>\n",
       "      <td>5</td>\n",
       "      <td>5</td>\n",
       "    </tr>\n",
       "    <tr>\n",
       "      <th>950</th>\n",
       "      <td>1</td>\n",
       "      <td>1</td>\n",
       "      <td>1</td>\n",
       "      <td>1</td>\n",
       "      <td>1</td>\n",
       "      <td>1</td>\n",
       "      <td>1</td>\n",
       "      <td>1</td>\n",
       "      <td>1</td>\n",
       "      <td>1</td>\n",
       "      <td>1</td>\n",
       "      <td>1</td>\n",
       "      <td>1</td>\n",
       "      <td>1</td>\n",
       "      <td>1</td>\n",
       "    </tr>\n",
       "    <tr>\n",
       "      <th>1050</th>\n",
       "      <td>1</td>\n",
       "      <td>1</td>\n",
       "      <td>1</td>\n",
       "      <td>1</td>\n",
       "      <td>1</td>\n",
       "      <td>1</td>\n",
       "      <td>1</td>\n",
       "      <td>1</td>\n",
       "      <td>1</td>\n",
       "      <td>1</td>\n",
       "      <td>1</td>\n",
       "      <td>1</td>\n",
       "      <td>1</td>\n",
       "      <td>1</td>\n",
       "      <td>1</td>\n",
       "    </tr>\n",
       "    <tr>\n",
       "      <th>1100</th>\n",
       "      <td>2</td>\n",
       "      <td>2</td>\n",
       "      <td>2</td>\n",
       "      <td>2</td>\n",
       "      <td>2</td>\n",
       "      <td>2</td>\n",
       "      <td>2</td>\n",
       "      <td>2</td>\n",
       "      <td>2</td>\n",
       "      <td>2</td>\n",
       "      <td>2</td>\n",
       "      <td>2</td>\n",
       "      <td>2</td>\n",
       "      <td>2</td>\n",
       "      <td>2</td>\n",
       "    </tr>\n",
       "    <tr>\n",
       "      <th>1150</th>\n",
       "      <td>13</td>\n",
       "      <td>13</td>\n",
       "      <td>13</td>\n",
       "      <td>13</td>\n",
       "      <td>13</td>\n",
       "      <td>13</td>\n",
       "      <td>13</td>\n",
       "      <td>13</td>\n",
       "      <td>13</td>\n",
       "      <td>13</td>\n",
       "      <td>13</td>\n",
       "      <td>13</td>\n",
       "      <td>13</td>\n",
       "      <td>13</td>\n",
       "      <td>13</td>\n",
       "    </tr>\n",
       "    <tr>\n",
       "      <th>1200</th>\n",
       "      <td>33</td>\n",
       "      <td>33</td>\n",
       "      <td>33</td>\n",
       "      <td>33</td>\n",
       "      <td>33</td>\n",
       "      <td>33</td>\n",
       "      <td>33</td>\n",
       "      <td>33</td>\n",
       "      <td>33</td>\n",
       "      <td>33</td>\n",
       "      <td>33</td>\n",
       "      <td>33</td>\n",
       "      <td>33</td>\n",
       "      <td>33</td>\n",
       "      <td>33</td>\n",
       "    </tr>\n",
       "    <tr>\n",
       "      <th>1250</th>\n",
       "      <td>27</td>\n",
       "      <td>27</td>\n",
       "      <td>27</td>\n",
       "      <td>27</td>\n",
       "      <td>27</td>\n",
       "      <td>27</td>\n",
       "      <td>27</td>\n",
       "      <td>27</td>\n",
       "      <td>27</td>\n",
       "      <td>27</td>\n",
       "      <td>27</td>\n",
       "      <td>27</td>\n",
       "      <td>27</td>\n",
       "      <td>27</td>\n",
       "      <td>27</td>\n",
       "    </tr>\n",
       "  </tbody>\n",
       "</table>\n",
       "</div>"
      ],
      "text/plain": [
       "       epsx  epsy  epsz  fin_en  form_enp  gv  icsd  kp_leng  kv  mbj_gap  \\\n",
       "encut                                                                       \n",
       "500       1     1     1       1         1   1     1        1   1        1   \n",
       "550       1     1     1       1         1   1     1        1   1        1   \n",
       "600       3     3     3       3         3   3     3        3   3        3   \n",
       "650       3     3     3       3         3   3     3        3   3        3   \n",
       "700       1     1     1       1         1   1     1        1   1        1   \n",
       "750       9     9     9       9         9   9     9        9   9        9   \n",
       "800      13    13    13      13        13  13    13       13  13       13   \n",
       "850      14    14    14      14        14  14    14       14  14       14   \n",
       "900       5     5     5       5         5   5     5        5   5        5   \n",
       "950       1     1     1       1         1   1     1        1   1        1   \n",
       "1050      1     1     1       1         1   1     1        1   1        1   \n",
       "1100      2     2     2       2         2   2     2        2   2        2   \n",
       "1150     13    13    13      13        13  13    13       13  13       13   \n",
       "1200     33    33    33      33        33  33    33       33  33       33   \n",
       "1250     27    27    27      27        27  27    27       27  27       27   \n",
       "\n",
       "       mepsx  mepsy  mepsz  mpid  op_gap  \n",
       "encut                                     \n",
       "500        1      1      1     1       1  \n",
       "550        1      1      1     1       1  \n",
       "600        3      3      3     3       3  \n",
       "650        3      3      3     3       3  \n",
       "700        1      1      1     1       1  \n",
       "750        9      9      9     9       9  \n",
       "800       13     13     13    13      13  \n",
       "850       14     14     14    14      14  \n",
       "900        5      5      5     5       5  \n",
       "950        1      1      1     1       1  \n",
       "1050       1      1      1     1       1  \n",
       "1100       2      2      2     2       2  \n",
       "1150      13     13     13    13      13  \n",
       "1200      33     33     33    33      33  \n",
       "1250      27     27     27    27      27  "
      ]
     },
     "execution_count": 29,
     "metadata": {},
     "output_type": "execute_result"
    }
   ],
   "source": [
    "# check the number of data points per cutoff and for inconsistent numbers of values \n",
    "# (indicating a possible problem)\n",
    "cutoffs.count()"
   ]
  },
  {
   "cell_type": "code",
   "execution_count": 30,
   "metadata": {},
   "outputs": [],
   "source": [
    "#dir(data)"
   ]
  },
  {
   "cell_type": "markdown",
   "metadata": {},
   "source": [
    "### Plotting"
   ]
  },
  {
   "cell_type": "code",
   "execution_count": 39,
   "metadata": {},
   "outputs": [
    {
     "data": {
      "image/png": "[encoded data removed]",
      "text/plain": [
       "<Figure size 432x288 with 1 Axes>"
      ]
     },
     "metadata": {},
     "output_type": "display_data"
    }
   ],
   "source": [
    "%matplotlib inline\n",
    "import matplotlib.pyplot as plt\n",
    "import pandas\n",
    "from matplotlib import rc\n",
    "\n",
    "rc('text', usetex=False) \n",
    "plt.style.use('ggplot')\n",
    "\n",
    "data_all = pandas.read_csv('data/jarvis_all.csv', index_col='formula')\n",
    "eps = data_all.loc['Si', 'epsx':'epsz']\n",
    "ax = eps.plot(kind=\"bar\");"
   ]
  },
  {
   "cell_type": "code",
   "execution_count": 40,
   "metadata": {},
   "outputs": [
    {
     "data": {
      "image/png": "[encoded data removed]",
      "text/plain": [
       "<Figure size 432x288 with 1 Axes>"
      ]
     },
     "metadata": {},
     "output_type": "display_data"
    }
   ],
   "source": [
    "eps.T.plot(kind=\"bar\")\n",
    "plt.ylabel('epsX value');"
   ]
  },
  {
   "cell_type": "code",
   "execution_count": 41,
   "metadata": {},
   "outputs": [
    {
     "data": {
      "text/plain": [
       "[<matplotlib.lines.Line2D at 0x7fa3549c27b8>]"
      ]
     },
     "execution_count": 41,
     "metadata": {},
     "output_type": "execute_result"
    },
    {
     "data": {
      "image/png": "[encoded data removed]",
      "text/plain": [
       "<Figure size 432x288 with 1 Axes>"
      ]
     },
     "metadata": {},
     "output_type": "display_data"
    }
   ],
   "source": [
    "import numpy as np\n",
    "\n",
    "arr = data_all.form_enp.sort_values()\n",
    "plt.plot(arr.values, 'g--')\n",
    "#plt.show()\n",
    "\n",
    "#eps_col = eps.columns\n",
    "#plt.bar(list(numpy.arange(5)), eps.epsy, 'g--')"
   ]
  },
  {
   "cell_type": "code",
   "execution_count": 64,
   "metadata": {},
   "outputs": [
    {
     "data": {
      "image/png": "[encoded data removed]",
      "text/plain": [
       "<Figure size 432x288 with 1 Axes>"
      ]
     },
     "metadata": {},
     "output_type": "display_data"
    }
   ],
   "source": [
    "data_sort = data_all.sort_values('op_gap')\n",
    "\n",
    "plt.plot(data_sort.op_gap.values, 'g-', lw=2, label=r'op_gap')\n",
    "plt.plot(data_sort.mbj_gap.values, 'b.', ms=1, label=r'mbj_gap')\n",
    "plt.legend(loc='upper left')\n",
    "plt.xlabel('Sorted Index')\n",
    "plt.ylabel('Band gap (eV)');"
   ]
  },
  {
   "cell_type": "code",
   "execution_count": 43,
   "metadata": {},
   "outputs": [
    {
     "name": "stderr",
     "output_type": "stream",
     "text": [
      "/nix/store/s0sm64jr151zh9r6mbnqypr491nbf59c-python3.6-matplotlib-2.2.3/lib/python3.6/site-packages/matplotlib/cbook/deprecation.py:107: MatplotlibDeprecationWarning: Adding an axes using the same arguments as a previous axes currently reuses the earlier instance.  In a future version, a new instance will always be created and returned.  Meanwhile, this warning can be suppressed, and the future behavior ensured, by passing a unique label to each axes instance.\n",
      "  warnings.warn(message, mplDeprecation, stacklevel=1)\n"
     ]
    },
    {
     "data": {
      "image/png": "[encoded data removed]",
      "text/plain": [
       "<Figure size 432x288 with 1 Axes>"
      ]
     },
     "metadata": {},
     "output_type": "display_data"
    }
   ],
   "source": [
    "lim = [0, 15]\n",
    "plt.scatter(data_all.mbj_gap, data_all.op_gap, s=1.5, c='g')\n",
    "plt.xlim(lim)\n",
    "plt.ylim(lim)\n",
    "plt.plot(lim, lim, 'k--')\n",
    "plt.axes().set_aspect('equal')\n",
    "plt.xlabel('mbj (eV)')\n",
    "plt.ylabel('op (eV)');"
   ]
  },
  {
   "cell_type": "code",
   "execution_count": 69,
   "metadata": {},
   "outputs": [
    {
     "data": {
      "image/png": "[encoded data removed]",
      "text/plain": [
       "<Figure size 432x288 with 1 Axes>"
      ]
     },
     "metadata": {},
     "output_type": "display_data"
    }
   ],
   "source": [
    "df = pandas.read_csv('data/jarvis_all.csv')\n",
    "\n",
    "df.loc[:, 'color'] = 'r'\n",
    "df.loc[df.op_gap < 3, 'color'] = 'g'\n",
    "df.loc[df.op_gap < .05, 'color'] = 'b' \n",
    "\n",
    "df.plot('op_gap', 'epsx', kind='scatter', s=1.5, color=df['color'])\n",
    "plt.xlim([-0.2, 6]);"
   ]
  },
  {
   "cell_type": "code",
   "execution_count": 10,
   "metadata": {},
   "outputs": [
    {
     "name": "stdout",
     "output_type": "stream",
     "text": [
      "<class 'pandas.core.frame.DataFrame'>\n",
      "Index: 5 entries, Si to Si\n",
      "Data columns (total 3 columns):\n",
      "epsx    5 non-null float64\n",
      "epsy    5 non-null float64\n",
      "epsz    5 non-null float64\n",
      "dtypes: float64(3)\n",
      "memory usage: 160.0+ bytes\n"
     ]
    },
    {
     "data": {
      "image/png": "[encoded data removed]",
      "text/plain": [
       "<Figure size 432x288 with 1 Axes>"
      ]
     },
     "metadata": {},
     "output_type": "display_data"
    }
   ],
   "source": [
    "\n",
    "\n",
    "import pandas\n",
    "data_all = pandas.read_csv('data/jarvis_all.csv', index_col='formula')\n",
    "eps = data_all.loc['Si', 'epsx':'epsz']\n",
    "#eps.index = eps.index.astype('str')\n",
    "#\n",
    "\n",
    "eps.info()\n",
    "eps.plot(kind=\"bar\");"
   ]
  },
  {
   "cell_type": "code",
   "execution_count": null,
   "metadata": {},
   "outputs": [],
   "source": []
  },
  {
   "cell_type": "code",
   "execution_count": 32,
   "metadata": {},
   "outputs": [
    {
     "data": {
      "text/plain": [
       "<matplotlib.axes._subplots.AxesSubplot at 0x7fd97868fc18>"
      ]
     },
     "execution_count": 32,
     "metadata": {},
     "output_type": "execute_result"
    },
    {
     "data": {
      "image/png": "[encoded data removed]",
      "text/plain": [
       "<Figure size 432x288 with 1 Axes>"
      ]
     },
     "metadata": {},
     "output_type": "display_data"
    }
   ],
   "source": [
    "subset.loc['JVASP-11300'].plot()"
   ]
  },
  {
   "cell_type": "code",
   "execution_count": 33,
   "metadata": {},
   "outputs": [
    {
     "data": {
      "text/plain": [
       "Text(0,0.5,'meps')"
      ]
     },
     "execution_count": 33,
     "metadata": {},
     "output_type": "execute_result"
    },
    {
     "data": {
      "image/png": "[encoded data removed]",
      "text/plain": [
       "<Figure size 432x288 with 1 Axes>"
      ]
     },
     "metadata": {},
     "output_type": "display_data"
    }
   ],
   "source": [
    "plt.style.use('ggplot')\n",
    "subset.T.plot(kind='bar')\n",
    "plt.ylabel('meps')"
   ]
  },
  {
   "cell_type": "code",
   "execution_count": 34,
   "metadata": {},
   "outputs": [
    {
     "data": {
      "text/plain": [
       "Text(0,0.5,'meps')"
      ]
     },
     "execution_count": 34,
     "metadata": {},
     "output_type": "execute_result"
    },
    {
     "data": {
      "image/png": "[encoded data removed]",
      "text/plain": [
       "<Figure size 432x288 with 1 Axes>"
      ]
     },
     "metadata": {},
     "output_type": "display_data"
    }
   ],
   "source": [
    "# Can plot many sets of data together.\n",
    "# Select two structures' worth of data.\n",
    "data_JVASP_11300 = subset.loc['JVASP-11300']\n",
    "data_JVASP_11311 = subset.loc['JVASP-11311']\n",
    "\n",
    "# Plot with differently-colored markers.\n",
    "plt.plot(data_JVASP_11300, 'b-', label='JVASP-11300')\n",
    "plt.plot(data_JVASP_11311, 'g-', label='JVASP-11311')\n",
    "\n",
    "# Create legend.\n",
    "plt.legend(loc='upper left')\n",
    "plt.xlabel('')\n",
    "plt.ylabel('meps')"
   ]
  },
  {
   "cell_type": "code",
   "execution_count": 35,
   "metadata": {},
   "outputs": [
    {
     "data": {
      "text/plain": [
       "<matplotlib.axes._subplots.AxesSubplot at 0x7fd972c7c2e8>"
      ]
     },
     "execution_count": 35,
     "metadata": {},
     "output_type": "execute_result"
    },
    {
     "data": {
      "image/png": "[encoded data removed]",
      "text/plain": [
       "<Figure size 432x288 with 1 Axes>"
      ]
     },
     "metadata": {},
     "output_type": "display_data"
    }
   ],
   "source": [
    "#plot op_gap vs mbj_gap\n",
    "data.plot(kind='scatter', x='mbj_gap', y='op_gap')"
   ]
  },
  {
   "cell_type": "code",
   "execution_count": 36,
   "metadata": {},
   "outputs": [
    {
     "data": {
      "text/plain": [
       "<matplotlib.axes._subplots.AxesSubplot at 0x7fd972c5b7f0>"
      ]
     },
     "execution_count": 36,
     "metadata": {},
     "output_type": "execute_result"
    },
    {
     "data": {
      "image/png": "[encoded data removed]",
      "text/plain": [
       "<Figure size 432x288 with 1 Axes>"
      ]
     },
     "metadata": {},
     "output_type": "display_data"
    }
   ],
   "source": [
    "import numpy as np\n",
    "data.plot(kind='scatter', x='mbj_gap', y='op_gap', s=np.absolute(data['form_enp']*25))"
   ]
  },
  {
   "cell_type": "code",
   "execution_count": 37,
   "metadata": {},
   "outputs": [
    {
     "data": {
      "text/plain": [
       "<matplotlib.axes._subplots.AxesSubplot at 0x7fd972bb9b70>"
      ]
     },
     "execution_count": 37,
     "metadata": {},
     "output_type": "execute_result"
    },
    {
     "data": {
      "image/png": "[encoded data removed]",
      "text/plain": [
       "<Figure size 432x288 with 1 Axes>"
      ]
     },
     "metadata": {},
     "output_type": "display_data"
    }
   ],
   "source": [
    "gap_subset=data.loc['JVASP-11300':'JVASP-11550', ['mbj_gap','op_gap']]\n",
    "gap_subset.plot(kind=\"bar\")"
   ]
  },
  {
   "cell_type": "code",
   "execution_count": 144,
   "metadata": {},
   "outputs": [],
   "source": [
    "import pandas\n",
    "\n",
    "df = pandas.read_csv('data/jarvis_all.csv', index_col='formula')"
   ]
  },
  {
   "cell_type": "code",
   "execution_count": 146,
   "metadata": {},
   "outputs": [
    {
     "name": "stdout",
     "output_type": "stream",
     "text": [
      "-3.025\n"
     ]
    }
   ],
   "source": [
    "print(df.loc['BeO', 'form_enp'])"
   ]
  },
  {
   "cell_type": "code",
   "execution_count": 150,
   "metadata": {},
   "outputs": [
    {
     "name": "stdout",
     "output_type": "stream",
     "text": [
      "            epsx     epsy\n",
      "formula                  \n",
      "As       21.0673  29.1228\n",
      "MoO3      6.3933   6.9466\n"
     ]
    }
   ],
   "source": [
    "print(data_all.iloc[0:2, 0:2]) "
   ]
  },
  {
   "cell_type": "code",
   "execution_count": 151,
   "metadata": {},
   "outputs": [
    {
     "name": "stdout",
     "output_type": "stream",
     "text": [
      "            epsx     epsy     epsz\n",
      "formula                           \n",
      "As       21.0673  29.1228  17.6066\n",
      "MoO3      6.3933   6.9466   6.3796\n"
     ]
    }
   ],
   "source": [
    "print(data_all.loc[\"As\":\"MoO3\", \"epsx\":\"epsz\"])"
   ]
  },
  {
   "cell_type": "code",
   "execution_count": 159,
   "metadata": {},
   "outputs": [
    {
     "name": "stdout",
     "output_type": "stream",
     "text": [
      "               epsx     epsy     epsz      fin_en  form_enp       gv    icsd  \\\n",
      "formula                                                                        \n",
      "SiO2         2.3149   2.3132   2.3288  -76.930629    -2.883   34.880   75649   \n",
      "SiO2         2.1976   2.1928   2.1935  -76.761132    -2.869   30.840   75647   \n",
      "SiO2         2.2864   2.2848   2.2909  -76.878191    -2.878   26.987   81381   \n",
      "SiO2         2.1960   2.1960   2.2030  -76.760880    -2.869   49.620   29343   \n",
      "SiO2         2.1226   2.1268   2.1217 -114.944080    -2.858   16.407  419757   \n",
      "SiC          6.9167   6.9167   7.0716 -101.485250    -0.245  190.760   24630   \n",
      "SiSe2        6.8829   5.6955   5.9998  -17.969709    -0.371   10.640   27206   \n",
      "SiC          6.9163   6.9163   7.0954  -63.415435    -0.244  193.020  107204   \n",
      "SiC          6.9151   6.9151   7.1328 -126.849500    -0.245  190.653   38150   \n",
      "CrSi2       34.1168  34.1169  28.6987  -45.902232    -0.196  146.160   96026   \n",
      "CrSi2       34.1168  34.1168  28.6987  -45.902217    -0.196  146.200   71502   \n",
      "SiOs        24.7969  24.7969  24.7969  -50.580523    -0.265   97.320   79232   \n",
      "CaSiO3       3.7752   3.7752   3.7752  -28.386911    -3.036  168.560  240413   \n",
      "SiC          6.8822   6.8821   7.1861  -25.348720    -0.239  190.240   24261   \n",
      "SiS2         6.1063   6.0744   5.9995  -22.431907    -0.680   26.127   16952   \n",
      "SiB6        21.6273  21.6273  21.6273  -36.925912     0.428   69.920   20240   \n",
      "Mg2SiO4      3.2788   3.2764   3.1867  -33.405842    -2.667  116.727   27537   \n",
      "SiC          6.9385   6.9385   6.9385  -12.685686    -0.245  197.620  603798   \n",
      "Ca2SiO4      3.7326   3.7336   3.7941  -37.903014    -3.153  107.300   40657   \n",
      "Si2Mo       30.7723  30.7723  27.8503  -51.706339    -0.309  140.540   71503   \n",
      "Si2W        31.4470  31.4470  29.5556  -55.894733    -0.117  138.520   71504   \n",
      "Rb2Si3SnO9   2.8478   2.8478   2.8740 -156.975940    -2.603   46.167   19028   \n",
      "Nd3Si2S8Br   6.7034   6.7032   6.8899 -114.515580    -1.605   23.813  411997   \n",
      "BaSi6N8O     4.2738   4.2285   4.2410 -106.014440    -1.452  106.260  415272   \n",
      "K3LuSi2O7    2.8061   2.8061   2.8253 -133.549430    -2.915   55.073  412528   \n",
      "K3ScSi2O7    3.0007   3.0007   2.9987 -135.646180    -2.866   58.240  413432   \n",
      "Pr3CuSiS7    8.0823   8.0823   7.4989  -96.435219    -1.694   36.940  156276   \n",
      "SiC          6.9263   6.9263   7.1732  -50.736315    -0.244  190.627   24170   \n",
      "Sr2Si       20.4340  20.4340  27.0348   -7.663440    -0.388   22.247  160103   \n",
      "SiS2         5.5312   4.6600   4.8849  -22.374228    -0.671   13.393   27205   \n",
      "...             ...      ...      ...         ...       ...      ...     ...   \n",
      "Na2MgSiO4    2.5725   2.5599   2.5500  -70.353293    -2.649   38.447   15619   \n",
      "CaTiSiO5     4.3187   4.3129   5.3082 -101.605630    -3.260   77.633  159344   \n",
      "Rb2SiAs2     8.4245   6.3757   6.9444  -20.633630    -0.493   12.280   60617   \n",
      "K2SiAs2      8.7365   6.4771   7.1511  -20.712210    -0.496   13.453   40426   \n",
      "Er2Si2O7     3.1249   3.3199   3.2973  -72.305089    -3.444   70.893  151123   \n",
      "CaZrSi2O7    3.2978   3.4895   3.4734  -72.035200    -3.281   67.400  203131   \n",
      "Lu2Si2O7     3.1010   3.2795   3.2612  -72.537324    -3.471   75.347  412249   \n",
      "Mg2SiO4      3.2377   3.2002   3.1697  -69.967559    -2.893  119.380   27536   \n",
      "KAlSiO4      2.5143   2.5143   2.4977  -77.709434    -2.977   27.527   34350   \n",
      "Rb2Li2SiO4   2.8566   2.8216   2.8503  -75.928205    -2.401   29.100   61086   \n",
      "Tl4SiS4      7.9402   8.4885   8.4412  -32.071526    -0.588    7.493   59170   \n",
      "NaSi2N3      4.1086   4.1083   4.2342  -69.736267    -1.148  119.713   72466   \n",
      "SiO2         3.9436   3.9436   3.9436  -71.494709    -2.430  224.220   70016   \n",
      "Si3N4        4.6168   4.6168   4.6168  -95.443087    -1.110  164.520   97567   \n",
      "KPrSiSe4     6.4385   6.6624   6.0717  -43.100523    -1.279   14.280  416622   \n",
      "Si2Mo       26.9650  27.0682  28.8444  -17.318458    -0.336  169.627   26868   \n",
      "CaSi2       15.8189  15.9291  14.5527   -9.038573    -0.429   48.373  409057   \n",
      "SrAlSi      16.5236  16.5236  17.8124   -7.111638    -0.482   40.680  162865   \n",
      "Sm(CuSi)2   36.5630  37.1861  48.0955  -12.056791    -0.562   72.253  106843   \n",
      "Pr(CuSi)2   35.8485  36.2072  42.2144  -12.212427    -0.550   71.347  106876   \n",
      "Er(CuSi)2   38.6564  39.5229  56.6472  -11.694571    -0.534   69.740  106845   \n",
      "Yb(CuSi)2   36.6423  36.8633  41.2865   -8.506132    -0.467   52.480  164078   \n",
      "Ca(SiAu)2   39.0704  39.6007  46.7444  -11.245242    -0.470   34.547     412   \n",
      "Al(CoSi)2   44.2675  44.2674  69.1496  -21.727197    -0.479   93.947   43353   \n",
      "YSiAu       44.5686  44.5687  43.5514  -22.280198    -0.842   49.347   72000   \n",
      "ThSiAu      43.0021  43.0021  27.8326  -11.528472    -0.765   65.447   75032   \n",
      "ScSi        23.1368  44.5798  52.0516  -18.541481    -0.817   72.200   42946   \n",
      "HoSi        37.2929  46.1114  39.2666  -30.568002    -0.808   67.853  154701   \n",
      "BaAlSi      16.6115  16.6115  17.3581   -7.508389    -0.472   38.400  162866   \n",
      "ScSiPt2     38.9834  42.3966  51.9694  -38.150896    -1.113   74.027  420355   \n",
      "\n",
      "            kp_leng       kv  mbj_gap    mepsx    mepsy    mepsz       mpid  \\\n",
      "formula                                                                       \n",
      "SiO2             45   20.167   8.4305   1.9343   1.9324   1.9468  mp-554089   \n",
      "SiO2             45   25.533   8.6578   1.8422   1.8359   1.8368  mp-554151   \n",
      "SiO2             45   25.578   8.4018   1.9116   1.9100   1.9128  mp-555235   \n",
      "SiO2             45   51.933   8.5061   1.8415   1.8415   1.8358  mp-559091   \n",
      "SiO2             40   15.411   8.8854   1.7203   1.7239   1.7196  mp-559550   \n",
      "SiC              60  213.200   2.8190   6.0183   6.0191   6.1082  mp-567505   \n",
      "SiSe2            50   18.000   2.6056   5.4457   4.6621   4.8990  mp-568264   \n",
      "SiC              55  213.300   2.8484   5.9934   5.9944   6.1009  mp-568619   \n",
      "SiC              60  213.289   3.0232   6.0084   6.0093   6.1497  mp-568656   \n",
      "CrSi2            55  184.700   0.0728  35.8244  35.8245  29.3394   mp-11191   \n",
      "CrSi2            55  184.700   0.0728  35.8230  35.8231  29.3380    mp-1222   \n",
      "SiOs             55  195.300   0.5494  23.4170  23.4170  23.4170    mp-2488   \n",
      "CaSiO3           45  227.633   5.2674   3.2247   3.2248   3.2248    mp-5893   \n",
      "SiC              55  213.533   3.4296   6.0382   6.0383   6.3077    mp-7140   \n",
      "SiS2             50   33.711   3.9742   5.0976   5.0688   5.0621    mp-7583   \n",
      "SiB6             70  149.933   0.0998  19.3317  19.3237  19.3210    mp-7700   \n",
      "Mg2SiO4          45  193.244   6.3284   2.5626   2.5613   2.5127    mp-7983   \n",
      "SiC              50  212.767   2.3079   6.1111   6.1111   6.1111    mp-8062   \n",
      "Ca2SiO4          45  165.467   5.9563   3.1426   3.1433   3.1821    mp-8682   \n",
      "Si2Mo            55  196.000   0.4164  29.4860  29.4860  26.3660    mp-8938   \n",
      "Si2W             60  209.067   0.0753  28.9954  28.9953  27.1650    mp-8939   \n",
      "Rb2Si3SnO9       50   80.111   5.8982   2.3260   2.3263   2.3228   mp-17382   \n",
      "Nd3Si2S8Br       50   56.156   3.4336   5.8224   5.8746   5.9726  mp-559237   \n",
      "BaSi6N8O         50  171.467   5.3852   3.6105   3.5550   3.5559  mp-557414   \n",
      "K3LuSi2O7        55  102.589   7.0073   2.2808   2.2809   2.2699  mp-557543   \n",
      "K3ScSi2O7        55  104.667   5.1922   2.5760   2.5752   2.5805  mp-557577   \n",
      "Pr3CuSiS7        60   70.133   2.1504   7.1801   7.1820   6.7384  mp-555893   \n",
      "SiC              60  213.344   3.2315   6.0306   6.0287   6.1976   mp-11714   \n",
      "Sr2Si            90   34.678   0.0635  16.7059  16.6254  33.3074   mp-13051   \n",
      "SiS2             50   22.289   3.5611   4.5297   3.9645   4.1310    mp-1602   \n",
      "...             ...      ...      ...      ...      ...      ...        ...   \n",
      "Na2MgSiO4        45   78.544   6.8160   2.0132   2.0084   2.0068    mp-6406   \n",
      "CaTiSiO5         50  134.256   3.2331   3.8863   3.8819   5.0002    mp-6440   \n",
      "Rb2SiAs2         60   22.967   1.8369   6.0161   4.7679   5.1634    mp-6960   \n",
      "K2SiAs2          60   24.689   1.9047   6.1879   4.7861   5.2909    mp-6984   \n",
      "Er2Si2O7         45  152.756   7.2587   2.5860   2.7175   2.7024    mp-7064   \n",
      "CaZrSi2O7        45  142.400   5.3271   2.8394   2.9678   2.9561    mp-7079   \n",
      "Lu2Si2O7         45  159.044   7.3243   2.5433   2.6579   2.6468    mp-7193   \n",
      "Mg2SiO4          50  181.867   6.5798   2.7032   2.6402   2.6521    mp-7982   \n",
      "KAlSiO4          45   66.344   7.5089   2.0585   2.0581   2.0428    mp-8355   \n",
      "Rb2Li2SiO4       45   53.533   6.5136   2.4166   2.3975   2.4078    mp-8449   \n",
      "Tl4SiS4          50   20.189   2.6236   6.3271   6.6893   6.6450    mp-8479   \n",
      "NaSi2N3          50  189.022   5.6425   3.4210   3.4188   3.5048    mp-8973   \n",
      "SiO2             50  320.200   5.3395   3.3147   3.3147   3.3147    mp-9258   \n",
      "Si3N4            50  255.700   5.3415   3.9783   3.9783   3.9783   mp-11607   \n",
      "KPrSiSe4         55   24.533   2.8818   5.3672   5.4992   5.1473   mp-13538   \n",
      "Si2Mo            80  193.578   0.0148  25.7579  25.8770  27.6283    mp-2592   \n",
      "CaSi2            85   62.722   0.0061  13.3108  13.3257  13.1398    mp-2700   \n",
      "SrAlSi           95   56.833   0.0077  15.1264  15.1122  17.6572    mp-3698   \n",
      "Sm(CuSi)2        90  112.289   0.0042  30.2888  30.5602  36.3868    mp-3997   \n",
      "Pr(CuSi)2        75  107.611   0.0158  31.2517  31.5088  35.7016    mp-4014   \n",
      "Er(CuSi)2        75  116.967   0.0255  32.9444  33.4532  43.8100    mp-4305   \n",
      "Yb(CuSi)2        75   96.133   0.0121  31.0322  31.1943  31.8073    mp-5934   \n",
      "Ca(SiAu)2        80   94.978   0.0067  35.2488  36.4861  41.8525    mp-7364   \n",
      "Al(CoSi)2        90  173.611   0.0123  48.2813  48.2811  84.1361   mp-10010   \n",
      "YSiAu            75  106.911   0.0158  36.6472  36.6473  35.3426    mp-9025   \n",
      "ThSiAu           70  125.778   0.0374  30.5168  30.5118  24.3971    mp-9164   \n",
      "ScSi             75  100.967   0.0028  21.3568  56.9512  59.2805    mp-9969   \n",
      "HoSi            100   93.722   0.0039  34.5873  41.8940  36.3075   mp-12900   \n",
      "BaAlSi          105   51.033   0.0048  14.6038  14.5835  17.4211   mp-13149   \n",
      "ScSiPt2          75  176.978   0.0037  42.4728  53.5733  61.7002   mp-13572   \n",
      "\n",
      "            op_gap          jid  \n",
      "formula                          \n",
      "SiO2        5.8315  JVASP-22571  \n",
      "SiO2        5.7402  JVASP-22572  \n",
      "SiO2        5.7034  JVASP-22578  \n",
      "SiO2        5.5433  JVASP-22611  \n",
      "SiO2        5.6771  JVASP-22614  \n",
      "SiC         2.0599  JVASP-22633  \n",
      "SiSe2       1.7370  JVASP-22639  \n",
      "SiC         2.0665  JVASP-22643  \n",
      "SiC         2.2730  JVASP-22644  \n",
      "CrSi2       0.0253   JVASP-7697  \n",
      "CrSi2       0.0254   JVASP-7740  \n",
      "SiOs        0.0370   JVASP-8005  \n",
      "CaSiO3      4.0205   JVASP-8104  \n",
      "SiC         2.6183   JVASP-8118  \n",
      "SiS2        3.0864   JVASP-8130  \n",
      "SiB6        0.0402   JVASP-8134  \n",
      "Mg2SiO4     4.0209   JVASP-8153  \n",
      "SiC         1.6198   JVASP-8158  \n",
      "Ca2SiO4     4.5154   JVASP-8175  \n",
      "Si2Mo       0.0728   JVASP-8188  \n",
      "Si2W        0.0401   JVASP-8189  \n",
      "Rb2Si3SnO9  4.1340  JVASP-22894  \n",
      "Nd3Si2S8Br  2.6835  JVASP-24270  \n",
      "BaSi6N8O    4.2624  JVASP-25626  \n",
      "K3LuSi2O7   3.5258  JVASP-25662  \n",
      "K3ScSi2O7   3.5473  JVASP-25667  \n",
      "Pr3CuSiS7   1.6748  JVASP-26752  \n",
      "SiC         2.4947    JVASP-107  \n",
      "Sr2Si       0.0063   JVASP-4831  \n",
      "SiS2        2.7267    JVASP-137  \n",
      "...            ...          ...  \n",
      "Na2MgSiO4   4.1019   JVASP-9790  \n",
      "CaTiSiO5    2.9516   JVASP-9792  \n",
      "Rb2SiAs2    1.1231  JVASP-10014  \n",
      "K2SiAs2     1.0920  JVASP-10018  \n",
      "Er2Si2O7    4.9337  JVASP-10079  \n",
      "CaZrSi2O7   4.7917  JVASP-10080  \n",
      "Lu2Si2O7    5.0013  JVASP-10095  \n",
      "Mg2SiO4     4.9145  JVASP-10196  \n",
      "KAlSiO4     4.7497  JVASP-10240  \n",
      "Rb2Li2SiO4  4.3803  JVASP-10247  \n",
      "Tl4SiS4     1.9957  JVASP-10250  \n",
      "NaSi2N3     4.5577  JVASP-10472  \n",
      "SiO2        4.5270  JVASP-10500  \n",
      "Si3N4       4.2817  JVASP-10793  \n",
      "KPrSiSe4    2.1189  JVASP-11129  \n",
      "Si2Mo       0.0037  JVASP-14970  \n",
      "CaSi2       0.0059  JVASP-15024  \n",
      "SrAlSi      0.0026  JVASP-15255  \n",
      "Sm(CuSi)2   0.0009  JVASP-15298  \n",
      "Pr(CuSi)2   0.0107  JVASP-15302  \n",
      "Er(CuSi)2   0.0134  JVASP-15357  \n",
      "Yb(CuSi)2   0.0098  JVASP-15658  \n",
      "Ca(SiAu)2   0.0033  JVASP-15792  \n",
      "Al(CoSi)2   0.0046  JVASP-15840  \n",
      "YSiAu       0.0155  JVASP-16118  \n",
      "ThSiAu      0.0134  JVASP-16125  \n",
      "ScSi        0.0020  JVASP-16224  \n",
      "HoSi        0.0038  JVASP-16871  \n",
      "BaAlSi      0.0010  JVASP-17183  \n",
      "ScSiPt2     0.0024  JVASP-17266  \n",
      "\n",
      "[84 rows x 16 columns]\n"
     ]
    }
   ],
   "source": [
    "first = pandas.read_csv('data/jarvis_all.csv', index_col='formula')\n",
    "second = first[first.index.str.contains('Si')]\n",
    "third = second.drop('Si')\n",
    "third.to_csv('result.csv')"
   ]
  },
  {
   "cell_type": "code",
   "execution_count": 178,
   "metadata": {},
   "outputs": [
    {
     "name": "stdout",
     "output_type": "stream",
     "text": [
      "epsx    1104\n",
      "epsy    1104\n",
      "epsz    1104\n",
      "dtype: int64\n",
      "epsx     310\n",
      "epsy    1626\n",
      "epsz     513\n",
      "dtype: int64\n"
     ]
    }
   ],
   "source": [
    "data_all = pandas.read_csv('data/jarvis_all.csv')\n",
    "dielec = data_all.loc[:, 'epsx':'epsz']\n",
    "print(dielec.idxmin())\n",
    "print(dielec.idxmax())"
   ]
  },
  {
   "cell_type": "code",
   "execution_count": 179,
   "metadata": {},
   "outputs": [
    {
     "name": "stdout",
     "output_type": "stream",
     "text": [
      "epsx    1.0681\n",
      "epsy    1.0681\n",
      "epsz    1.0681\n",
      "Name: 1104, dtype: float64\n",
      "epsx    49.5331\n",
      "epsy    49.5331\n",
      "epsz    49.5331\n",
      "Name: 310, dtype: float64\n"
     ]
    }
   ],
   "source": []
  },
  {
   "cell_type": "code",
   "execution_count": 180,
   "metadata": {},
   "outputs": [
    {
     "name": "stdout",
     "output_type": "stream",
     "text": [
      "       epsx      epsy      epsz      epsx\n",
      "0  4.589913  5.396554  4.196022  4.589913\n",
      "1  2.528498  2.635640  2.525787  2.528498\n",
      "2  2.466536  2.466536  2.562265  2.466536\n",
      "3  2.651716  2.512509  2.286351  2.651716\n",
      "4  2.161897  2.178532  2.184537  2.161897\n"
     ]
    }
   ],
   "source": [
    "import numpy\n",
    "\n",
    "dielectric_sq = data_all[['epsx', 'epsy', 'epsz', 'epsx']].apply(numpy.sqrt)\n",
    "print(dielectric_sq.iloc[:5])\n"
   ]
  },
  {
   "cell_type": "code",
   "execution_count": 181,
   "metadata": {},
   "outputs": [
    {
     "name": "stdout",
     "output_type": "stream",
     "text": [
      "formula\n",
      "VOF3         0.193174\n",
      "ZnCl2        0.002078\n",
      "ScHO2        0.026299\n",
      "Zr(MoO4)2    0.168051\n",
      "CoF2         0.984077\n",
      "RbPS3        0.111686\n",
      "BeO          0.000000\n",
      "CaCl2        0.030760\n",
      "SrClF        0.018030\n",
      "SrBrF        0.028253\n",
      "dtype: float64\n",
      "\n",
      "formula\n",
      "Si    0.122102\n",
      "Si    0.000000\n",
      "Si    0.000010\n",
      "Si    0.427006\n",
      "Si    0.200976\n",
      "dtype: float64\n"
     ]
    }
   ],
   "source": [
    "birefringence = dielectrics_sq.diff(axis=1).apply('abs').aggregate('max', axis=1)\n",
    "print(birefringence.iloc[10:20])\n",
    "print()\n",
    "print(birefringence.loc[\"Si\"])\n"
   ]
  },
  {
   "cell_type": "code",
   "execution_count": 182,
   "metadata": {},
   "outputs": [
    {
     "name": "stdout",
     "output_type": "stream",
     "text": [
      "formula\n",
      "BeO         0.0\n",
      "SrCl2       0.0\n",
      "NbSbRu      0.0\n",
      "K3MoF6      0.0\n",
      "HfVF6       0.0\n",
      "MoF6        0.0\n",
      "Rb2SnBr6    0.0\n",
      "Sr3BiN      0.0\n",
      "LiMgBi      0.0\n",
      "CsK2Sb      0.0\n",
      "dtype: float64\n"
     ]
    }
   ],
   "source": [
    "isotropic = birefringence[birefringence < 1e-5]\n",
    "print(isotropic[:10])\n"
   ]
  },
  {
   "cell_type": "code",
   "execution_count": 70,
   "metadata": {},
   "outputs": [
    {
     "name": "stdout",
     "output_type": "stream",
     "text": [
      "data/jarvis_all.csv epsx             1.0681\n",
      "epsy             1.0681\n",
      "epsz             1.0681\n",
      "fin_en         -319.593\n",
      "form_enp         -4.135\n",
      "gv                -9.62\n",
      "icsd             100028\n",
      "kp_leng              40\n",
      "kv               -0.822\n",
      "mbj_gap          0.0002\n",
      "mepsx          -426.369\n",
      "mepsy          -425.156\n",
      "mepsz            1.0578\n",
      "mpid           mp-10010\n",
      "op_gap           0.0001\n",
      "jid         JVASP-10010\n",
      "dtype: object\n",
      "data/jarvis_subset.csv epsx             4.6738\n",
      "epsy              4.746\n",
      "epsz             4.7722\n",
      "fin_en         -103.757\n",
      "form_enp         -2.086\n",
      "gv                5.947\n",
      "icsd              27393\n",
      "kp_leng              50\n",
      "kv               16.378\n",
      "mbj_gap          0.6495\n",
      "mepsx            3.6685\n",
      "mepsy            3.7637\n",
      "mepsz            3.7977\n",
      "mpid             mp-158\n",
      "op_gap           0.0221\n",
      "jid         JVASP-11997\n",
      "dtype: object\n"
     ]
    }
   ],
   "source": [
    "import pandas\n",
    "\n",
    "for filename in ['data/jarvis_all.csv', 'data/jarvis_subset.csv']:\n",
    "    data = pandas.read_csv(filename, index_col='formula')\n",
    "    print(filename, data.min())"
   ]
  },
  {
   "cell_type": "code",
   "execution_count": 71,
   "metadata": {},
   "outputs": [
    {
     "name": "stdout",
     "output_type": "stream",
     "text": [
      "all csv files in data directory: ['data/gapminder_gdp_asia.csv', 'data/gapminder_gdp_oceania.csv', 'data/gapminder_gdp_americas.csv', 'data/gapminder_gdp_europe.csv', 'data/gapminder_gdp_africa.csv', 'data/gapminder_all.csv', 'data/asia_gdp_per_capita.csv', 'data/jarvis_all.csv', 'data/jarvis_subset.csv']\n"
     ]
    }
   ],
   "source": [
    "import glob\n",
    "print('all csv files in data directory:', glob.glob('data/*.csv'))"
   ]
  },
  {
   "cell_type": "code",
   "execution_count": 72,
   "metadata": {},
   "outputs": [
    {
     "name": "stdout",
     "output_type": "stream",
     "text": [
      "data/jarvis_all.csv -9.62\n",
      "data/jarvis_subset.csv 5.947\n"
     ]
    }
   ],
   "source": [
    "for filename in glob.glob('data/jarvis_*.csv'):\n",
    "    data = pandas.read_csv(filename)\n",
    "    print(filename, data['gv'].min())\n"
   ]
  },
  {
   "cell_type": "code",
   "execution_count": null,
   "metadata": {},
   "outputs": [],
   "source": []
  }
 ],
 "metadata": {
  "kernelspec": {
   "display_name": "Python 3",
   "language": "python",
   "name": "python3"
  },
  "language_info": {
   "codemirror_mode": {
    "name": "ipython",
    "version": 3
   },
   "file_extension": ".py",
   "mimetype": "text/x-python",
   "name": "python",
   "nbconvert_exporter": "python",
   "pygments_lexer": "ipython3",
   "version": "3.6.6"
  },
  "varInspector": {
   "cols": {
    "lenName": 16,
    "lenType": 16,
    "lenVar": 40
   },
   "kernels_config": {
    "python": {
     "delete_cmd_postfix": "",
     "delete_cmd_prefix": "del ",
     "library": "var_list.py",
     "varRefreshCmd": "print(var_dic_list())"
    },
    "r": {
     "delete_cmd_postfix": ") ",
     "delete_cmd_prefix": "rm(",
     "library": "var_list.r",
     "varRefreshCmd": "cat(var_dic_list()) "
    }
   },
   "types_to_exclude": [
    "module",
    "function",
    "builtin_function_or_method",
    "instance",
    "_Feature"
   ],
   "window_display": false
  }
 },
 "nbformat": 4,
 "nbformat_minor": 2
}
